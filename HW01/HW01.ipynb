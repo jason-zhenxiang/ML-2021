{
  "nbformat": 4,
  "nbformat_minor": 0,
  "metadata": {
    "colab": {
      "name": "ML2021Spring - HW1.ipynb",
      "provenance": [],
      "include_colab_link": true
    },
    "kernelspec": {
      "name": "python3",
      "display_name": "Python 3"
    },
    "accelerator": "GPU"
  },
  "cells": [
    {
      "cell_type": "markdown",
      "metadata": {
        "id": "view-in-github",
        "colab_type": "text"
      },
      "source": [
        "<a href=\"https://colab.research.google.com/github/jason-zhenxiang/ML-2021/blob/main/HW01/HW01.ipynb\" target=\"_parent\"><img src=\"https://colab.research.google.com/assets/colab-badge.svg\" alt=\"Open In Colab\"/></a>"
      ]
    },
    {
      "cell_type": "markdown",
      "metadata": {
        "id": "mz0_QVkxCrX3"
      },
      "source": [
        "# **Homework 1: COVID-19 Cases Prediction (Regression)**"
      ]
    },
    {
      "cell_type": "markdown",
      "metadata": {
        "id": "ZeZnPAiwDRWG"
      },
      "source": [
        "Author: Heng-Jui Chang\n",
        "\n",
        "Slides: https://github.com/ga642381/ML2021-Spring/blob/main/HW01/HW01.pdf  \n",
        "Videos (Mandarin): https://cool.ntu.edu.tw/courses/4793/modules/items/172854  \n",
        "https://cool.ntu.edu.tw/courses/4793/modules/items/172853  \n",
        "Video (English): https://cool.ntu.edu.tw/courses/4793/modules/items/176529\n",
        "\n",
        "\n",
        "Objectives:\n",
        "* Solve a regression problem with deep neural networks (DNN).\n",
        "* Understand basic DNN training tips.\n",
        "* Get familiar with PyTorch.\n",
        "\n",
        "If any questions, please contact the TAs via TA hours, NTU COOL, or email.\n"
      ]
    },
    {
      "cell_type": "markdown",
      "metadata": {
        "id": "Jx3x1nDkG-Uy"
      },
      "source": [
        "# **Download Data**\n",
        "\n",
        "\n",
        "If the Google drive links are dead, you can download data from [kaggle](https://www.kaggle.com/c/ml2021spring-hw1/data), and upload data manually to the workspace."
      ]
    },
    {
      "cell_type": "code",
      "metadata": {
        "colab": {
          "base_uri": "https://localhost:8080/"
        },
        "id": "tMj55YDKG6ch",
        "outputId": "7bd39b82-ad32-4b23-d073-b948e03398e2"
      },
      "source": [
        "tr_path = 'covid.train.csv'  # path to training data\n",
        "tt_path = 'covid.test.csv'   # path to testing data\n",
        "\n",
        "!gdown --id '19CCyCgJrUxtvgZF53vnctJiOJ23T5mqF' --output covid.train.csv\n",
        "!gdown --id '1CE240jLm2npU-tdz81-oVKEF3T2yfT1O' --output covid.test.csv"
      ],
      "execution_count": 82,
      "outputs": [
        {
          "output_type": "stream",
          "name": "stdout",
          "text": [
            "/usr/local/lib/python3.11/dist-packages/gdown/__main__.py:140: FutureWarning: Option `--id` was deprecated in version 4.3.1 and will be removed in 5.0. You don't need to pass it anymore to use a file ID.\n",
            "  warnings.warn(\n",
            "Downloading...\n",
            "From: https://drive.google.com/uc?id=19CCyCgJrUxtvgZF53vnctJiOJ23T5mqF\n",
            "To: /content/covid.train.csv\n",
            "100% 2.00M/2.00M [00:00<00:00, 223MB/s]\n",
            "/usr/local/lib/python3.11/dist-packages/gdown/__main__.py:140: FutureWarning: Option `--id` was deprecated in version 4.3.1 and will be removed in 5.0. You don't need to pass it anymore to use a file ID.\n",
            "  warnings.warn(\n",
            "Downloading...\n",
            "From: https://drive.google.com/uc?id=1CE240jLm2npU-tdz81-oVKEF3T2yfT1O\n",
            "To: /content/covid.test.csv\n",
            "100% 651k/651k [00:00<00:00, 102MB/s]\n"
          ]
        }
      ]
    },
    {
      "cell_type": "markdown",
      "metadata": {
        "id": "wS_4-77xHk44"
      },
      "source": [
        "# **Import Some Packages**"
      ]
    },
    {
      "cell_type": "code",
      "metadata": {
        "id": "k-onQd4JNA5H"
      },
      "source": [
        "# PyTorch\n",
        "import torch\n",
        "import torch.nn as nn\n",
        "from torch.utils.data import Dataset, DataLoader\n",
        "\n",
        "# For data preprocess\n",
        "import numpy as np\n",
        "import csv\n",
        "import os\n",
        "\n",
        "# For plotting\n",
        "import matplotlib.pyplot as plt\n",
        "from matplotlib.pyplot import figure\n",
        "\n",
        "myseed = 42069  # set a random seed for reproducibility\n",
        "torch.backends.cudnn.deterministic = True\n",
        "torch.backends.cudnn.benchmark = False\n",
        "np.random.seed(myseed)\n",
        "torch.manual_seed(myseed)\n",
        "if torch.cuda.is_available():\n",
        "    torch.cuda.manual_seed_all(myseed)"
      ],
      "execution_count": 83,
      "outputs": []
    },
    {
      "cell_type": "markdown",
      "metadata": {
        "id": "BtE3b6JEH7rw"
      },
      "source": [
        "# **Some Utilities**\n",
        "\n",
        "You do not need to modify this part."
      ]
    },
    {
      "cell_type": "code",
      "metadata": {
        "id": "FWMT3uf1NGQp"
      },
      "source": [
        "def get_device():\n",
        "    ''' Get device (if GPU is available, use GPU) '''\n",
        "    return 'cuda' if torch.cuda.is_available() else 'cpu'\n",
        "\n",
        "def plot_learning_curve(loss_record, title=''):\n",
        "    ''' Plot learning curve of your DNN (train & dev loss) '''\n",
        "    total_steps = len(loss_record['train'])\n",
        "    x_1 = range(total_steps)\n",
        "    x_2 = x_1[::len(loss_record['train']) // len(loss_record['dev'])]\n",
        "    figure(figsize=(6, 4))\n",
        "    plt.plot(x_1, loss_record['train'], c='tab:red', label='train')\n",
        "    plt.plot(x_2, loss_record['dev'], c='tab:cyan', label='dev')\n",
        "    plt.ylim(0.0, 5.)\n",
        "    plt.xlabel('Training steps')\n",
        "    plt.ylabel('MSE loss')\n",
        "    plt.title('Learning curve of {}'.format(title))\n",
        "    plt.legend()\n",
        "    plt.show()\n",
        "\n",
        "\n",
        "def plot_pred(dv_set, model, device, lim=35., preds=None, targets=None):\n",
        "    ''' Plot prediction of your DNN '''\n",
        "    if preds is None or targets is None:\n",
        "        model.eval()\n",
        "        preds, targets = [], []\n",
        "        for x, y in dv_set:\n",
        "            x, y = x.to(device), y.to(device)\n",
        "            with torch.no_grad():\n",
        "                pred = model(x)\n",
        "                preds.append(pred.detach().cpu())\n",
        "                targets.append(y.detach().cpu())\n",
        "        preds = torch.cat(preds, dim=0).numpy()\n",
        "        targets = torch.cat(targets, dim=0).numpy()\n",
        "\n",
        "    figure(figsize=(5, 5))\n",
        "    plt.scatter(targets, preds, c='r', alpha=0.5)\n",
        "    plt.plot([-0.2, lim], [-0.2, lim], c='b')\n",
        "    plt.xlim(-0.2, lim)\n",
        "    plt.ylim(-0.2, lim)\n",
        "    plt.xlabel('ground truth value')\n",
        "    plt.ylabel('predicted value')\n",
        "    plt.title('Ground Truth v.s. Prediction')\n",
        "    plt.show()"
      ],
      "execution_count": 84,
      "outputs": []
    },
    {
      "cell_type": "markdown",
      "metadata": {
        "id": "39U_XFX6KOoj"
      },
      "source": [
        "# **Preprocess**\n",
        "\n",
        "We have three kinds of datasets:\n",
        "* `train`: for training\n",
        "* `dev`: for validation\n",
        "* `test`: for testing (w/o target value)"
      ]
    },
    {
      "cell_type": "markdown",
      "metadata": {
        "id": "TQ-MdwpLL7Dt"
      },
      "source": [
        "## **Dataset**\n",
        "\n",
        "The `COVID19Dataset` below does:\n",
        "* read `.csv` files\n",
        "* extract features\n",
        "* split `covid.train.csv` into train/dev sets\n",
        "* normalize features\n",
        "\n",
        "Finishing `TODO` below might make you pass medium baseline."
      ]
    },
    {
      "cell_type": "code",
      "metadata": {
        "id": "0zlpIp9ANJRU"
      },
      "source": [
        "class COVID19Dataset(Dataset):\n",
        "    ''' Dataset for loading and preprocessing the COVID19 dataset '''\n",
        "    def __init__(self,\n",
        "                 path,\n",
        "                 mode='train',\n",
        "                 target_only=False): # 初始化时会接收三个参数：path--文件路径，mode--指定数据集的类型，target_only--\n",
        "        self.mode = mode\n",
        "\n",
        "        # Read data into numpy arrays\n",
        "        with open(path, 'r') as fp:\n",
        "            data = list(csv.reader(fp))\n",
        "            data = np.array(data[1:])[:, 1:].astype(float) # data[1:]用来去掉表头，[:,1:]表示去掉第一列\n",
        "\n",
        "        if not target_only:\n",
        "            feats = list(range(93))\n",
        "        else:\n",
        "            # TODO: Using 40 states & 2 tested_positive features (indices = 57 & 75)\n",
        "            feats = list(range(40)) + [57, 75]\n",
        "            pass\n",
        "\n",
        "        if mode == 'test':\n",
        "            # Testing data\n",
        "            # data: 893 x 93 (40 states + day 1 (18) + day 2 (18) + day 3 (17))\n",
        "            data = data[:, feats]\n",
        "            self.data = torch.FloatTensor(data)\n",
        "        else:\n",
        "            # Training data (train/dev sets)\n",
        "            # data: 2700 x 94 (40 states + day 1 (18) + day 2 (18) + day 3 (18))\n",
        "            target = data[:, -1]\n",
        "            data = data[:, feats]\n",
        "\n",
        "            # Splitting training data into train & dev sets\n",
        "            if mode == 'train':\n",
        "                indices = [i for i in range(len(data)) if i % 10 != 0]\n",
        "            elif mode == 'dev':\n",
        "                indices = [i for i in range(len(data)) if i % 10 == 0]\n",
        "\n",
        "            # Convert data into PyTorch tensors\n",
        "            self.data = torch.FloatTensor(data[indices])\n",
        "            self.target = torch.FloatTensor(target[indices])\n",
        "\n",
        "        # Normalize features (you may remove this part to see what will happen)\n",
        "        self.data[:, 40:] = \\\n",
        "            (self.data[:, 40:] - self.data[:, 40:].mean(dim=0, keepdim=True)) \\\n",
        "            / self.data[:, 40:].std(dim=0, keepdim=True)\n",
        "\n",
        "        self.dim = self.data.shape[1]\n",
        "\n",
        "        print('Finished reading the {} set of COVID19 Dataset ({} samples found, each dim = {})'\n",
        "              .format(mode, len(self.data), self.dim))\n",
        "\n",
        "    def __getitem__(self, index):\n",
        "        # Returns one sample at a time\n",
        "        if self.mode in ['train', 'dev']:\n",
        "            # For training\n",
        "            return self.data[index], self.target[index]\n",
        "        else:\n",
        "            # For testing (no target)\n",
        "            return self.data[index]\n",
        "\n",
        "    def __len__(self):\n",
        "        # Returns the size of the dataset\n",
        "        return len(self.data)"
      ],
      "execution_count": 85,
      "outputs": []
    },
    {
      "cell_type": "markdown",
      "metadata": {
        "id": "AlhTlkE7MDo3"
      },
      "source": [
        "## **DataLoader**\n",
        "\n",
        "A `DataLoader` loads data from a given `Dataset` into batches.\n"
      ]
    },
    {
      "cell_type": "code",
      "metadata": {
        "id": "hlhLk5t6MBX3"
      },
      "source": [
        "def prep_dataloader(path, mode, batch_size, n_jobs=0, target_only=False):\n",
        "    ''' Generates a dataset, then is put into a dataloader. '''\n",
        "    dataset = COVID19Dataset(path, mode=mode, target_only=target_only)  # Construct dataset\n",
        "    dataloader = DataLoader(\n",
        "        dataset, batch_size,\n",
        "        shuffle=(mode == 'train'), drop_last=False,\n",
        "        num_workers=n_jobs, pin_memory=True)                            # Construct dataloader\n",
        "    return dataloader"
      ],
      "execution_count": 86,
      "outputs": []
    },
    {
      "cell_type": "markdown",
      "metadata": {
        "id": "SGuycwR0MeQB"
      },
      "source": [
        "# **Deep Neural Network**\n",
        "\n",
        "`NeuralNet` is an `nn.Module` designed for regression.\n",
        "The DNN consists of 2 fully-connected layers with ReLU activation.\n",
        "This module also included a function `cal_loss` for calculating loss.\n"
      ]
    },
    {
      "cell_type": "code",
      "metadata": {
        "id": "49-uXYovOAI0"
      },
      "source": [
        "class NeuralNet(nn.Module):\n",
        "    ''' A simple fully-connected deep neural network '''\n",
        "    def __init__(self, input_dim):\n",
        "        super(NeuralNet, self).__init__()\n",
        "\n",
        "        # Define your neural network here\n",
        "        # TODO: How to modify this model to achieve better performance?\n",
        "        self.net = nn.Sequential(\n",
        "            nn.Linear(input_dim, 64),\n",
        "            nn.ReLU(),\n",
        "            nn.Linear(64, 1)\n",
        "        )\n",
        "\n",
        "        # Mean squared error loss\n",
        "        self.criterion = nn.MSELoss(reduction='mean')\n",
        "\n",
        "    def forward(self, x):\n",
        "        ''' Given input of size (batch_size x input_dim), compute output of the network '''\n",
        "        return self.net(x).squeeze(1)\n",
        "\n",
        "    def cal_loss(self, pred, target, lambad_l2 = 0.01):\n",
        "        ''' Calculate loss with L2 regulatization'''\n",
        "        # TODO: you may implement L1/L2 regularization here\n",
        "        self.criterion = nn.MSELoss()\n",
        "\n",
        "        loss = self.criterion(pred, target)\n",
        "\n",
        "        l2_reg = 0\n",
        "        for param in self.net.parameters():\n",
        "          l2_reg += torch.sum(param**2)\n",
        "\n",
        "        loss += lambad_l2 * l2_reg\n",
        "\n",
        "        return loss"
      ],
      "execution_count": 87,
      "outputs": []
    },
    {
      "cell_type": "markdown",
      "metadata": {
        "id": "DvFWVjZ5Nvga"
      },
      "source": [
        "# **Train/Dev/Test**"
      ]
    },
    {
      "cell_type": "markdown",
      "metadata": {
        "id": "MAM8QecJOyqn"
      },
      "source": [
        "## **Training**"
      ]
    },
    {
      "cell_type": "code",
      "metadata": {
        "id": "lOqcmYzMO7jB"
      },
      "source": [
        "def train(tr_set, dv_set, model, config, device):\n",
        "    ''' DNN training '''\n",
        "\n",
        "    n_epochs = config['n_epochs']  # Maximum number of epochs\n",
        "\n",
        "    # Setup optimizer\n",
        "    optimizer = getattr(torch.optim, config['optimizer'])(\n",
        "        model.parameters(), **config['optim_hparas'])\n",
        "\n",
        "    min_mse = 1000.\n",
        "    loss_record = {'train': [], 'dev': []}      # for recording training loss\n",
        "    early_stop_cnt = 0\n",
        "    epoch = 0\n",
        "    while epoch < n_epochs:\n",
        "        model.train()                           # set model to training mode\n",
        "        for x, y in tr_set:                     # iterate through the dataloader\n",
        "            optimizer.zero_grad()               # set gradient to zero\n",
        "            x, y = x.to(device), y.to(device)   # move data to device (cpu/cuda)\n",
        "            pred = model(x)                     # forward pass (compute output)\n",
        "            mse_loss = model.cal_loss(pred, y)  # compute loss\n",
        "            mse_loss.backward()                 # compute gradient (backpropagation)\n",
        "            optimizer.step()                    # update model with optimizer\n",
        "            loss_record['train'].append(mse_loss.detach().cpu().item())\n",
        "\n",
        "        # After each epoch, test your model on the validation (development) set.\n",
        "        dev_mse = dev(dv_set, model, device)\n",
        "        if dev_mse < min_mse:\n",
        "            # Save model if your model improved\n",
        "            min_mse = dev_mse\n",
        "            print('Saving model (epoch = {:4d}, loss = {:.4f})'\n",
        "                .format(epoch + 1, min_mse))\n",
        "            torch.save(model.state_dict(), config['save_path'])  # Save model to specified path\n",
        "            early_stop_cnt = 0\n",
        "        else:\n",
        "            early_stop_cnt += 1\n",
        "\n",
        "        epoch += 1\n",
        "        loss_record['dev'].append(dev_mse)\n",
        "        if early_stop_cnt > config['early_stop']:\n",
        "            # Stop training if your model stops improving for \"config['early_stop']\" epochs.\n",
        "            break\n",
        "\n",
        "    print('Finished training after {} epochs'.format(epoch))\n",
        "    return min_mse, loss_record"
      ],
      "execution_count": 88,
      "outputs": []
    },
    {
      "cell_type": "markdown",
      "metadata": {
        "id": "0hSd4Bn3O2PL"
      },
      "source": [
        "## **Validation**"
      ]
    },
    {
      "cell_type": "code",
      "metadata": {
        "id": "yrxrD3YsN3U2"
      },
      "source": [
        "def dev(dv_set, model, device):\n",
        "    model.eval()                                # set model to evalutation mode\n",
        "    total_loss = 0\n",
        "    for x, y in dv_set:                         # iterate through the dataloader\n",
        "        x, y = x.to(device), y.to(device)       # move data to device (cpu/cuda)\n",
        "        with torch.no_grad():                   # disable gradient calculation\n",
        "            pred = model(x)                     # forward pass (compute output)\n",
        "            mse_loss = model.cal_loss(pred, y)  # compute loss\n",
        "        total_loss += mse_loss.detach().cpu().item() * len(x)  # accumulate loss\n",
        "    total_loss = total_loss / len(dv_set.dataset)              # compute averaged loss\n",
        "\n",
        "    return total_loss"
      ],
      "execution_count": 89,
      "outputs": []
    },
    {
      "cell_type": "markdown",
      "metadata": {
        "id": "g0pdrhQAO41L"
      },
      "source": [
        "## **Testing**"
      ]
    },
    {
      "cell_type": "code",
      "metadata": {
        "id": "aSBMRFlYN5tB"
      },
      "source": [
        "def test(tt_set, model, device):\n",
        "    model.eval()                                # set model to evalutation mode\n",
        "    preds = []\n",
        "    for x in tt_set:                            # iterate through the dataloader\n",
        "        x = x.to(device)                        # move data to device (cpu/cuda)\n",
        "        with torch.no_grad():                   # disable gradient calculation\n",
        "            pred = model(x)                     # forward pass (compute output)\n",
        "            preds.append(pred.detach().cpu())   # collect prediction\n",
        "    preds = torch.cat(preds, dim=0).numpy()     # concatenate all predictions and convert to a numpy array\n",
        "    return preds"
      ],
      "execution_count": 90,
      "outputs": []
    },
    {
      "cell_type": "markdown",
      "metadata": {
        "id": "SvckkF5dvf0j"
      },
      "source": [
        "# **Setup Hyper-parameters**\n",
        "\n",
        "`config` contains hyper-parameters for training and the path to save your model."
      ]
    },
    {
      "cell_type": "code",
      "metadata": {
        "id": "NPXpdumwPjE7"
      },
      "source": [
        "device = get_device()                 # get the current available device ('cpu' or 'cuda')\n",
        "os.makedirs('models', exist_ok=True)  # The trained model will be saved to ./models/\n",
        "target_only = True                   # TODO: Using 40 states & 2 tested_positive features\n",
        "\n",
        "# TODO: How to tune these hyper-parameters to improve your model's performance?\n",
        "config = {\n",
        "    'n_epochs': 3000,                # maximum number of epochs\n",
        "    'batch_size': 270,               # mini-batch size for dataloader\n",
        "    'optimizer': 'SGD',              # optimization algorithm (optimizer in torch.optim)\n",
        "    'optim_hparas': {                # hyper-parameters for the optimizer (depends on which optimizer you are using)\n",
        "        'lr': 0.001,                 # learning rate of SGD\n",
        "        'momentum': 0.9              # momentum for SGD\n",
        "    },\n",
        "    'early_stop': 200,               # early stopping epochs (the number epochs since your model's last improvement)\n",
        "    'save_path': 'models/model.pth'  # your model will be saved here\n",
        "}"
      ],
      "execution_count": 91,
      "outputs": []
    },
    {
      "cell_type": "markdown",
      "metadata": {
        "id": "6j1eOV3TOH-j"
      },
      "source": [
        "# **Load data and model**"
      ]
    },
    {
      "cell_type": "code",
      "metadata": {
        "colab": {
          "base_uri": "https://localhost:8080/"
        },
        "id": "eNrYBMmePLKm",
        "outputId": "cbfa3d98-03c8-4282-e336-1efaaaad54e7"
      },
      "source": [
        "tr_set = prep_dataloader(tr_path, 'train', config['batch_size'], target_only=target_only)\n",
        "dv_set = prep_dataloader(tr_path, 'dev', config['batch_size'], target_only=target_only)\n",
        "tt_set = prep_dataloader(tt_path, 'test', config['batch_size'], target_only=target_only)"
      ],
      "execution_count": 92,
      "outputs": [
        {
          "output_type": "stream",
          "name": "stdout",
          "text": [
            "Finished reading the train set of COVID19 Dataset (2430 samples found, each dim = 42)\n",
            "Finished reading the dev set of COVID19 Dataset (270 samples found, each dim = 42)\n",
            "Finished reading the test set of COVID19 Dataset (893 samples found, each dim = 42)\n"
          ]
        }
      ]
    },
    {
      "cell_type": "code",
      "metadata": {
        "id": "FHylSirLP9oh"
      },
      "source": [
        "model = NeuralNet(tr_set.dataset.dim).to(device)  # Construct model and move to device"
      ],
      "execution_count": 93,
      "outputs": []
    },
    {
      "cell_type": "markdown",
      "metadata": {
        "id": "sX2B_zgSOPTJ"
      },
      "source": [
        "# **Start Training!**"
      ]
    },
    {
      "cell_type": "code",
      "metadata": {
        "colab": {
          "base_uri": "https://localhost:8080/"
        },
        "id": "GrEbUxazQAAZ",
        "outputId": "9832656b-ac3f-44b5-d75b-5f8ea13c5b72"
      },
      "source": [
        "model_loss, model_loss_record = train(tr_set, dv_set, model, config, device)"
      ],
      "execution_count": 94,
      "outputs": [
        {
          "output_type": "stream",
          "name": "stdout",
          "text": [
            "Saving model (epoch =    1, loss = 245.6682)\n",
            "Saving model (epoch =    2, loss = 12.3907)\n",
            "Saving model (epoch =    5, loss = 6.3740)\n",
            "Saving model (epoch =    6, loss = 2.6999)\n",
            "Saving model (epoch =    8, loss = 2.6438)\n",
            "Saving model (epoch =    9, loss = 2.2450)\n",
            "Saving model (epoch =   10, loss = 2.0894)\n",
            "Saving model (epoch =   11, loss = 2.0651)\n",
            "Saving model (epoch =   12, loss = 2.0386)\n",
            "Saving model (epoch =   13, loss = 1.9911)\n",
            "Saving model (epoch =   14, loss = 1.9659)\n",
            "Saving model (epoch =   15, loss = 1.9485)\n",
            "Saving model (epoch =   16, loss = 1.9245)\n",
            "Saving model (epoch =   17, loss = 1.9060)\n",
            "Saving model (epoch =   18, loss = 1.8896)\n",
            "Saving model (epoch =   19, loss = 1.8784)\n",
            "Saving model (epoch =   20, loss = 1.8560)\n",
            "Saving model (epoch =   21, loss = 1.8430)\n",
            "Saving model (epoch =   22, loss = 1.8352)\n",
            "Saving model (epoch =   23, loss = 1.8212)\n",
            "Saving model (epoch =   24, loss = 1.8111)\n",
            "Saving model (epoch =   25, loss = 1.8003)\n",
            "Saving model (epoch =   26, loss = 1.7897)\n",
            "Saving model (epoch =   27, loss = 1.7779)\n",
            "Saving model (epoch =   28, loss = 1.7722)\n",
            "Saving model (epoch =   29, loss = 1.7665)\n",
            "Saving model (epoch =   30, loss = 1.7540)\n",
            "Saving model (epoch =   31, loss = 1.7522)\n",
            "Saving model (epoch =   32, loss = 1.7399)\n",
            "Saving model (epoch =   33, loss = 1.7361)\n",
            "Saving model (epoch =   34, loss = 1.7264)\n",
            "Saving model (epoch =   36, loss = 1.7167)\n",
            "Saving model (epoch =   37, loss = 1.7121)\n",
            "Saving model (epoch =   38, loss = 1.7098)\n",
            "Saving model (epoch =   39, loss = 1.6960)\n",
            "Saving model (epoch =   41, loss = 1.6911)\n",
            "Saving model (epoch =   42, loss = 1.6888)\n",
            "Saving model (epoch =   43, loss = 1.6832)\n",
            "Saving model (epoch =   44, loss = 1.6750)\n",
            "Saving model (epoch =   45, loss = 1.6716)\n",
            "Saving model (epoch =   47, loss = 1.6690)\n",
            "Saving model (epoch =   48, loss = 1.6598)\n",
            "Saving model (epoch =   49, loss = 1.6595)\n",
            "Saving model (epoch =   50, loss = 1.6525)\n",
            "Saving model (epoch =   52, loss = 1.6509)\n",
            "Saving model (epoch =   53, loss = 1.6448)\n",
            "Saving model (epoch =   54, loss = 1.6421)\n",
            "Saving model (epoch =   55, loss = 1.6397)\n",
            "Saving model (epoch =   57, loss = 1.6327)\n",
            "Saving model (epoch =   58, loss = 1.6272)\n",
            "Saving model (epoch =   60, loss = 1.6251)\n",
            "Saving model (epoch =   61, loss = 1.6216)\n",
            "Saving model (epoch =   62, loss = 1.6211)\n",
            "Saving model (epoch =   63, loss = 1.6167)\n",
            "Saving model (epoch =   64, loss = 1.6128)\n",
            "Saving model (epoch =   66, loss = 1.6124)\n",
            "Saving model (epoch =   67, loss = 1.6064)\n",
            "Saving model (epoch =   70, loss = 1.5987)\n",
            "Saving model (epoch =   72, loss = 1.5966)\n",
            "Saving model (epoch =   74, loss = 1.5913)\n",
            "Saving model (epoch =   76, loss = 1.5910)\n",
            "Saving model (epoch =   77, loss = 1.5880)\n",
            "Saving model (epoch =   78, loss = 1.5845)\n",
            "Saving model (epoch =   81, loss = 1.5789)\n",
            "Saving model (epoch =   82, loss = 1.5779)\n",
            "Saving model (epoch =   84, loss = 1.5739)\n",
            "Saving model (epoch =   85, loss = 1.5723)\n",
            "Saving model (epoch =   86, loss = 1.5716)\n",
            "Saving model (epoch =   88, loss = 1.5652)\n",
            "Saving model (epoch =   91, loss = 1.5624)\n",
            "Saving model (epoch =   93, loss = 1.5609)\n",
            "Saving model (epoch =   95, loss = 1.5573)\n",
            "Saving model (epoch =   97, loss = 1.5568)\n",
            "Saving model (epoch =   98, loss = 1.5512)\n",
            "Saving model (epoch =  102, loss = 1.5499)\n",
            "Saving model (epoch =  103, loss = 1.5473)\n",
            "Saving model (epoch =  104, loss = 1.5466)\n",
            "Saving model (epoch =  106, loss = 1.5452)\n",
            "Saving model (epoch =  107, loss = 1.5445)\n",
            "Saving model (epoch =  108, loss = 1.5418)\n",
            "Saving model (epoch =  109, loss = 1.5416)\n",
            "Saving model (epoch =  111, loss = 1.5388)\n",
            "Saving model (epoch =  114, loss = 1.5376)\n",
            "Saving model (epoch =  115, loss = 1.5321)\n",
            "Saving model (epoch =  118, loss = 1.5313)\n",
            "Saving model (epoch =  120, loss = 1.5305)\n",
            "Saving model (epoch =  122, loss = 1.5242)\n",
            "Saving model (epoch =  126, loss = 1.5205)\n",
            "Saving model (epoch =  131, loss = 1.5193)\n",
            "Saving model (epoch =  132, loss = 1.5148)\n",
            "Saving model (epoch =  136, loss = 1.5114)\n",
            "Saving model (epoch =  140, loss = 1.5095)\n",
            "Saving model (epoch =  142, loss = 1.5090)\n",
            "Saving model (epoch =  144, loss = 1.5068)\n",
            "Saving model (epoch =  147, loss = 1.5054)\n",
            "Saving model (epoch =  150, loss = 1.5024)\n",
            "Saving model (epoch =  152, loss = 1.5022)\n",
            "Saving model (epoch =  153, loss = 1.4981)\n",
            "Saving model (epoch =  156, loss = 1.4958)\n",
            "Saving model (epoch =  160, loss = 1.4944)\n",
            "Saving model (epoch =  164, loss = 1.4937)\n",
            "Saving model (epoch =  165, loss = 1.4901)\n",
            "Saving model (epoch =  167, loss = 1.4863)\n",
            "Saving model (epoch =  174, loss = 1.4856)\n",
            "Saving model (epoch =  175, loss = 1.4855)\n",
            "Saving model (epoch =  178, loss = 1.4836)\n",
            "Saving model (epoch =  179, loss = 1.4834)\n",
            "Saving model (epoch =  181, loss = 1.4818)\n",
            "Saving model (epoch =  183, loss = 1.4792)\n",
            "Saving model (epoch =  186, loss = 1.4782)\n",
            "Saving model (epoch =  188, loss = 1.4763)\n",
            "Saving model (epoch =  191, loss = 1.4748)\n",
            "Saving model (epoch =  195, loss = 1.4734)\n",
            "Saving model (epoch =  197, loss = 1.4720)\n",
            "Saving model (epoch =  198, loss = 1.4712)\n",
            "Saving model (epoch =  200, loss = 1.4707)\n",
            "Saving model (epoch =  201, loss = 1.4696)\n",
            "Saving model (epoch =  204, loss = 1.4635)\n",
            "Saving model (epoch =  207, loss = 1.4628)\n",
            "Saving model (epoch =  212, loss = 1.4620)\n",
            "Saving model (epoch =  215, loss = 1.4608)\n",
            "Saving model (epoch =  216, loss = 1.4605)\n",
            "Saving model (epoch =  218, loss = 1.4592)\n",
            "Saving model (epoch =  220, loss = 1.4550)\n",
            "Saving model (epoch =  225, loss = 1.4548)\n",
            "Saving model (epoch =  229, loss = 1.4535)\n",
            "Saving model (epoch =  231, loss = 1.4521)\n",
            "Saving model (epoch =  235, loss = 1.4512)\n",
            "Saving model (epoch =  238, loss = 1.4485)\n",
            "Saving model (epoch =  241, loss = 1.4466)\n",
            "Saving model (epoch =  244, loss = 1.4456)\n",
            "Saving model (epoch =  248, loss = 1.4451)\n",
            "Saving model (epoch =  249, loss = 1.4430)\n",
            "Saving model (epoch =  252, loss = 1.4423)\n",
            "Saving model (epoch =  256, loss = 1.4389)\n",
            "Saving model (epoch =  259, loss = 1.4375)\n",
            "Saving model (epoch =  262, loss = 1.4360)\n",
            "Saving model (epoch =  265, loss = 1.4342)\n",
            "Saving model (epoch =  273, loss = 1.4340)\n",
            "Saving model (epoch =  274, loss = 1.4334)\n",
            "Saving model (epoch =  276, loss = 1.4319)\n",
            "Saving model (epoch =  280, loss = 1.4271)\n",
            "Saving model (epoch =  289, loss = 1.4247)\n",
            "Saving model (epoch =  296, loss = 1.4242)\n",
            "Saving model (epoch =  299, loss = 1.4237)\n",
            "Saving model (epoch =  301, loss = 1.4226)\n",
            "Saving model (epoch =  305, loss = 1.4203)\n",
            "Saving model (epoch =  308, loss = 1.4193)\n",
            "Saving model (epoch =  312, loss = 1.4191)\n",
            "Saving model (epoch =  315, loss = 1.4169)\n",
            "Saving model (epoch =  318, loss = 1.4128)\n",
            "Saving model (epoch =  326, loss = 1.4107)\n",
            "Saving model (epoch =  331, loss = 1.4102)\n",
            "Saving model (epoch =  337, loss = 1.4074)\n",
            "Saving model (epoch =  346, loss = 1.4063)\n",
            "Saving model (epoch =  350, loss = 1.4043)\n",
            "Saving model (epoch =  355, loss = 1.4037)\n",
            "Saving model (epoch =  358, loss = 1.4021)\n",
            "Saving model (epoch =  361, loss = 1.4017)\n",
            "Saving model (epoch =  364, loss = 1.4000)\n",
            "Saving model (epoch =  370, loss = 1.3968)\n",
            "Saving model (epoch =  375, loss = 1.3964)\n",
            "Saving model (epoch =  383, loss = 1.3952)\n",
            "Saving model (epoch =  387, loss = 1.3944)\n",
            "Saving model (epoch =  390, loss = 1.3935)\n",
            "Saving model (epoch =  393, loss = 1.3919)\n",
            "Saving model (epoch =  397, loss = 1.3899)\n",
            "Saving model (epoch =  406, loss = 1.3889)\n",
            "Saving model (epoch =  409, loss = 1.3887)\n",
            "Saving model (epoch =  413, loss = 1.3873)\n",
            "Saving model (epoch =  415, loss = 1.3849)\n",
            "Saving model (epoch =  419, loss = 1.3846)\n",
            "Saving model (epoch =  429, loss = 1.3833)\n",
            "Saving model (epoch =  433, loss = 1.3813)\n",
            "Saving model (epoch =  442, loss = 1.3803)\n",
            "Saving model (epoch =  445, loss = 1.3783)\n",
            "Saving model (epoch =  455, loss = 1.3770)\n",
            "Saving model (epoch =  463, loss = 1.3757)\n",
            "Saving model (epoch =  466, loss = 1.3754)\n",
            "Saving model (epoch =  469, loss = 1.3739)\n",
            "Saving model (epoch =  473, loss = 1.3734)\n",
            "Saving model (epoch =  476, loss = 1.3726)\n",
            "Saving model (epoch =  481, loss = 1.3724)\n",
            "Saving model (epoch =  484, loss = 1.3710)\n",
            "Saving model (epoch =  492, loss = 1.3695)\n",
            "Saving model (epoch =  494, loss = 1.3686)\n",
            "Saving model (epoch =  498, loss = 1.3670)\n",
            "Saving model (epoch =  500, loss = 1.3646)\n",
            "Saving model (epoch =  515, loss = 1.3645)\n",
            "Saving model (epoch =  517, loss = 1.3641)\n",
            "Saving model (epoch =  526, loss = 1.3626)\n",
            "Saving model (epoch =  535, loss = 1.3623)\n",
            "Saving model (epoch =  537, loss = 1.3611)\n",
            "Saving model (epoch =  541, loss = 1.3605)\n",
            "Saving model (epoch =  544, loss = 1.3577)\n",
            "Saving model (epoch =  554, loss = 1.3575)\n",
            "Saving model (epoch =  558, loss = 1.3574)\n",
            "Saving model (epoch =  561, loss = 1.3560)\n",
            "Saving model (epoch =  567, loss = 1.3554)\n",
            "Saving model (epoch =  574, loss = 1.3530)\n",
            "Saving model (epoch =  589, loss = 1.3520)\n",
            "Saving model (epoch =  605, loss = 1.3518)\n",
            "Saving model (epoch =  617, loss = 1.3506)\n",
            "Saving model (epoch =  626, loss = 1.3502)\n",
            "Saving model (epoch =  628, loss = 1.3500)\n",
            "Saving model (epoch =  632, loss = 1.3484)\n",
            "Saving model (epoch =  640, loss = 1.3475)\n",
            "Saving model (epoch =  650, loss = 1.3467)\n",
            "Saving model (epoch =  659, loss = 1.3460)\n",
            "Saving model (epoch =  668, loss = 1.3449)\n",
            "Saving model (epoch =  671, loss = 1.3430)\n",
            "Saving model (epoch =  683, loss = 1.3428)\n",
            "Saving model (epoch =  684, loss = 1.3426)\n",
            "Saving model (epoch =  690, loss = 1.3425)\n",
            "Saving model (epoch =  705, loss = 1.3419)\n",
            "Saving model (epoch =  710, loss = 1.3402)\n",
            "Saving model (epoch =  712, loss = 1.3396)\n",
            "Saving model (epoch =  722, loss = 1.3396)\n",
            "Saving model (epoch =  728, loss = 1.3395)\n",
            "Saving model (epoch =  733, loss = 1.3394)\n",
            "Saving model (epoch =  736, loss = 1.3391)\n",
            "Saving model (epoch =  744, loss = 1.3371)\n",
            "Saving model (epoch =  755, loss = 1.3366)\n",
            "Saving model (epoch =  762, loss = 1.3361)\n",
            "Saving model (epoch =  772, loss = 1.3358)\n",
            "Saving model (epoch =  781, loss = 1.3350)\n",
            "Saving model (epoch =  785, loss = 1.3337)\n",
            "Saving model (epoch =  794, loss = 1.3317)\n",
            "Saving model (epoch =  816, loss = 1.3313)\n",
            "Saving model (epoch =  819, loss = 1.3313)\n",
            "Saving model (epoch =  823, loss = 1.3308)\n",
            "Saving model (epoch =  826, loss = 1.3299)\n",
            "Saving model (epoch =  861, loss = 1.3282)\n",
            "Saving model (epoch =  903, loss = 1.3277)\n",
            "Saving model (epoch =  908, loss = 1.3253)\n",
            "Saving model (epoch =  937, loss = 1.3249)\n",
            "Saving model (epoch =  944, loss = 1.3242)\n",
            "Saving model (epoch =  996, loss = 1.3242)\n",
            "Saving model (epoch =  999, loss = 1.3238)\n",
            "Saving model (epoch = 1001, loss = 1.3237)\n",
            "Saving model (epoch = 1010, loss = 1.3235)\n",
            "Saving model (epoch = 1031, loss = 1.3222)\n",
            "Saving model (epoch = 1053, loss = 1.3218)\n",
            "Saving model (epoch = 1064, loss = 1.3208)\n",
            "Saving model (epoch = 1069, loss = 1.3204)\n",
            "Saving model (epoch = 1118, loss = 1.3196)\n",
            "Saving model (epoch = 1158, loss = 1.3193)\n",
            "Saving model (epoch = 1183, loss = 1.3191)\n",
            "Saving model (epoch = 1189, loss = 1.3172)\n",
            "Saving model (epoch = 1192, loss = 1.3169)\n",
            "Saving model (epoch = 1321, loss = 1.3166)\n",
            "Saving model (epoch = 1361, loss = 1.3160)\n",
            "Saving model (epoch = 1381, loss = 1.3150)\n",
            "Saving model (epoch = 1478, loss = 1.3150)\n",
            "Saving model (epoch = 1525, loss = 1.3138)\n",
            "Saving model (epoch = 1688, loss = 1.3129)\n",
            "Finished training after 1889 epochs\n"
          ]
        }
      ]
    },
    {
      "cell_type": "code",
      "metadata": {
        "colab": {
          "base_uri": "https://localhost:8080/",
          "height": 410
        },
        "id": "hsNO9nnXQBvP",
        "outputId": "9b428e77-48f1-4505-cf04-1d4d5a5d5bbb"
      },
      "source": [
        "plot_learning_curve(model_loss_record, title='deep model')"
      ],
      "execution_count": 95,
      "outputs": [
        {
          "output_type": "display_data",
          "data": {
            "text/plain": [
              "<Figure size 600x400 with 1 Axes>"
            ],
            "image/png": "[encoded data removed]"
          },
          "metadata": {}
        }
      ]
    },
    {
      "cell_type": "code",
      "metadata": {
        "colab": {
          "base_uri": "https://localhost:8080/",
          "height": 487
        },
        "id": "3iZTVn5WQFpX",
        "outputId": "22f61c52-2e8f-4aaf-f0e2-f8a8de8ad999"
      },
      "source": [
        "del model\n",
        "model = NeuralNet(tr_set.dataset.dim).to(device)\n",
        "ckpt = torch.load(config['save_path'], map_location='cpu')  # Load your best model\n",
        "model.load_state_dict(ckpt)\n",
        "plot_pred(dv_set, model, device)  # Show prediction on the validation set"
      ],
      "execution_count": 96,
      "outputs": [
        {
          "output_type": "display_data",
          "data": {
            "text/plain": [
              "<Figure size 500x500 with 1 Axes>"
            ],
            "image/png": "[encoded data removed]"
          },
          "metadata": {}
        }
      ]
    },
    {
      "cell_type": "markdown",
      "metadata": {
        "id": "aQikz3IPiyPf"
      },
      "source": [
        "# **Testing**\n",
        "The predictions of your model on testing set will be stored at `pred.csv`."
      ]
    },
    {
      "cell_type": "code",
      "metadata": {
        "colab": {
          "base_uri": "https://localhost:8080/"
        },
        "id": "O8cTuQjQQOon",
        "outputId": "33aba840-2b1b-434d-d4cb-16252004e03c"
      },
      "source": [
        "def save_pred(preds, file):\n",
        "    ''' Save predictions to specified file '''\n",
        "    print('Saving results to {}'.format(file))\n",
        "    with open(file, 'w') as fp:\n",
        "        writer = csv.writer(fp)\n",
        "        writer.writerow(['id', 'tested_positive'])\n",
        "        for i, p in enumerate(preds):\n",
        "            writer.writerow([i, p])\n",
        "\n",
        "preds = test(tt_set, model, device)  # predict COVID-19 cases with your model\n",
        "save_pred(preds, 'pred.csv')         # save prediction file to pred.csv"
      ],
      "execution_count": 97,
      "outputs": [
        {
          "output_type": "stream",
          "name": "stdout",
          "text": [
            "Saving results to pred.csv\n"
          ]
        }
      ]
    },
    {
      "cell_type": "markdown",
      "metadata": {
        "id": "nfrVxqJanGpE"
      },
      "source": [
        "# **Hints**\n",
        "\n",
        "## **Simple Baseline**\n",
        "* Run sample code\n",
        "\n",
        "## **Medium Baseline**\n",
        "* Feature selection: 40 states + 2 `tested_positive` (`TODO` in dataset)\n",
        "\n",
        "## **Strong Baseline**\n",
        "* Feature selection (what other features are useful?)\n",
        "* DNN architecture (layers? dimension? activation function?)\n",
        "* Training (mini-batch? optimizer? learning rate?)\n",
        "* L2 regularization\n",
        "* There are some mistakes in the sample code, can you find them?"
      ]
    },
    {
      "cell_type": "markdown",
      "metadata": {
        "id": "9tmCwXgpot3t"
      },
      "source": [
        "# **Reference**\n",
        "This code is completely written by Heng-Jui Chang @ NTUEE.  \n",
        "Copying or reusing this code is required to specify the original author.\n",
        "\n",
        "E.g.  \n",
        "Source: Heng-Jui Chang @ NTUEE (https://github.com/ga642381/ML2021-Spring/blob/main/HW01/HW01.ipynb)\n"
      ]
    }
  ]
}