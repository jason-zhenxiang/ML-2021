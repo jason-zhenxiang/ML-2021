{
  "nbformat": 4,
  "nbformat_minor": 0,
  "metadata": {
    "colab": {
      "name": "ML2021Spring - HW1.ipynb",
      "provenance": [],
      "include_colab_link": true
    },
    "kernelspec": {
      "name": "python3",
      "display_name": "Python 3"
    },
    "accelerator": "GPU"
  },
  "cells": [
    {
      "cell_type": "markdown",
      "metadata": {
        "id": "view-in-github",
        "colab_type": "text"
      },
      "source": [
        "<a href=\"https://colab.research.google.com/github/jason-zhenxiang/ML-2021/blob/main/HW01/HW01.ipynb\" target=\"_parent\"><img src=\"https://colab.research.google.com/assets/colab-badge.svg\" alt=\"Open In Colab\"/></a>"
      ]
    },
    {
      "cell_type": "markdown",
      "metadata": {
        "id": "mz0_QVkxCrX3"
      },
      "source": [
        "# **Homework 1: COVID-19 Cases Prediction (Regression)**"
      ]
    },
    {
      "cell_type": "markdown",
      "metadata": {
        "id": "ZeZnPAiwDRWG"
      },
      "source": [
        "Author: Heng-Jui Chang\n",
        "\n",
        "Slides: https://github.com/ga642381/ML2021-Spring/blob/main/HW01/HW01.pdf  \n",
        "Videos (Mandarin): https://cool.ntu.edu.tw/courses/4793/modules/items/172854  \n",
        "https://cool.ntu.edu.tw/courses/4793/modules/items/172853  \n",
        "Video (English): https://cool.ntu.edu.tw/courses/4793/modules/items/176529\n",
        "\n",
        "\n",
        "Objectives:\n",
        "* Solve a regression problem with deep neural networks (DNN).\n",
        "* Understand basic DNN training tips.\n",
        "* Get familiar with PyTorch.\n",
        "\n",
        "If any questions, please contact the TAs via TA hours, NTU COOL, or email.\n"
      ]
    },
    {
      "cell_type": "markdown",
      "metadata": {
        "id": "Jx3x1nDkG-Uy"
      },
      "source": [
        "# **Download Data**\n",
        "\n",
        "\n",
        "If the Google drive links are dead, you can download data from [kaggle](https://www.kaggle.com/c/ml2021spring-hw1/data), and upload data manually to the workspace."
      ]
    },
    {
      "cell_type": "code",
      "metadata": {
        "colab": {
          "base_uri": "https://localhost:8080/"
        },
        "id": "tMj55YDKG6ch",
        "outputId": "c313672b-8485-492c-f7e4-ea03c3afa51d"
      },
      "source": [
        "tr_path = 'covid.train.csv'  # path to training data\n",
        "tt_path = 'covid.test.csv'   # path to testing data\n",
        "\n",
        "!gdown --id '19CCyCgJrUxtvgZF53vnctJiOJ23T5mqF' --output covid.train.csv\n",
        "!gdown --id '1CE240jLm2npU-tdz81-oVKEF3T2yfT1O' --output covid.test.csv"
      ],
      "execution_count": 1,
      "outputs": [
        {
          "output_type": "stream",
          "name": "stdout",
          "text": [
            "/usr/local/lib/python3.11/dist-packages/gdown/__main__.py:140: FutureWarning: Option `--id` was deprecated in version 4.3.1 and will be removed in 5.0. You don't need to pass it anymore to use a file ID.\n",
            "  warnings.warn(\n",
            "Downloading...\n",
            "From: https://drive.google.com/uc?id=19CCyCgJrUxtvgZF53vnctJiOJ23T5mqF\n",
            "To: /content/covid.train.csv\n",
            "100% 2.00M/2.00M [00:00<00:00, 245MB/s]\n",
            "/usr/local/lib/python3.11/dist-packages/gdown/__main__.py:140: FutureWarning: Option `--id` was deprecated in version 4.3.1 and will be removed in 5.0. You don't need to pass it anymore to use a file ID.\n",
            "  warnings.warn(\n",
            "Downloading...\n",
            "From: https://drive.google.com/uc?id=1CE240jLm2npU-tdz81-oVKEF3T2yfT1O\n",
            "To: /content/covid.test.csv\n",
            "100% 651k/651k [00:00<00:00, 100MB/s]\n"
          ]
        }
      ]
    },
    {
      "cell_type": "markdown",
      "metadata": {
        "id": "wS_4-77xHk44"
      },
      "source": [
        "# **Import Some Packages**"
      ]
    },
    {
      "cell_type": "code",
      "metadata": {
        "id": "k-onQd4JNA5H"
      },
      "source": [
        "# PyTorch\n",
        "import torch\n",
        "import torch.nn as nn\n",
        "from torch.utils.data import Dataset, DataLoader\n",
        "\n",
        "# For data preprocess\n",
        "import numpy as np\n",
        "import csv\n",
        "import os\n",
        "\n",
        "# For plotting\n",
        "import matplotlib.pyplot as plt\n",
        "from matplotlib.pyplot import figure\n",
        "\n",
        "myseed = 42069  # set a random seed for reproducibility\n",
        "torch.backends.cudnn.deterministic = True\n",
        "torch.backends.cudnn.benchmark = False\n",
        "np.random.seed(myseed)\n",
        "torch.manual_seed(myseed)\n",
        "if torch.cuda.is_available():\n",
        "    torch.cuda.manual_seed_all(myseed)"
      ],
      "execution_count": 2,
      "outputs": []
    },
    {
      "cell_type": "markdown",
      "metadata": {
        "id": "BtE3b6JEH7rw"
      },
      "source": [
        "# **Some Utilities**\n",
        "\n",
        "You do not need to modify this part."
      ]
    },
    {
      "cell_type": "code",
      "metadata": {
        "id": "FWMT3uf1NGQp"
      },
      "source": [
        "def get_device():\n",
        "    ''' Get device (if GPU is available, use GPU) '''\n",
        "    return 'cuda' if torch.cuda.is_available() else 'cpu'\n",
        "\n",
        "def plot_learning_curve(loss_record, title=''):\n",
        "    ''' Plot learning curve of your DNN (train & dev loss) '''\n",
        "    total_steps = len(loss_record['train'])\n",
        "    x_1 = range(total_steps)\n",
        "    x_2 = x_1[::len(loss_record['train']) // len(loss_record['dev'])]\n",
        "    figure(figsize=(6, 4))\n",
        "    plt.plot(x_1, loss_record['train'], c='tab:red', label='train')\n",
        "    plt.plot(x_2, loss_record['dev'], c='tab:cyan', label='dev')\n",
        "    plt.ylim(0.0, 5.)\n",
        "    plt.xlabel('Training steps')\n",
        "    plt.ylabel('MSE loss')\n",
        "    plt.title('Learning curve of {}'.format(title))\n",
        "    plt.legend()\n",
        "    plt.show()\n",
        "\n",
        "\n",
        "def plot_pred(dv_set, model, device, lim=35., preds=None, targets=None):\n",
        "    ''' Plot prediction of your DNN '''\n",
        "    if preds is None or targets is None:\n",
        "        model.eval()\n",
        "        preds, targets = [], []\n",
        "        for x, y in dv_set:\n",
        "            x, y = x.to(device), y.to(device)\n",
        "            with torch.no_grad():\n",
        "                pred = model(x)\n",
        "                preds.append(pred.detach().cpu())\n",
        "                targets.append(y.detach().cpu())\n",
        "        preds = torch.cat(preds, dim=0).numpy()\n",
        "        targets = torch.cat(targets, dim=0).numpy()\n",
        "\n",
        "    figure(figsize=(5, 5))\n",
        "    plt.scatter(targets, preds, c='r', alpha=0.5)\n",
        "    plt.plot([-0.2, lim], [-0.2, lim], c='b')\n",
        "    plt.xlim(-0.2, lim)\n",
        "    plt.ylim(-0.2, lim)\n",
        "    plt.xlabel('ground truth value')\n",
        "    plt.ylabel('predicted value')\n",
        "    plt.title('Ground Truth v.s. Prediction')\n",
        "    plt.show()"
      ],
      "execution_count": 3,
      "outputs": []
    },
    {
      "cell_type": "markdown",
      "metadata": {
        "id": "39U_XFX6KOoj"
      },
      "source": [
        "# **Preprocess**\n",
        "\n",
        "We have three kinds of datasets:\n",
        "* `train`: for training\n",
        "* `dev`: for validation\n",
        "* `test`: for testing (w/o target value)"
      ]
    },
    {
      "cell_type": "markdown",
      "metadata": {
        "id": "TQ-MdwpLL7Dt"
      },
      "source": [
        "## **Dataset**\n",
        "\n",
        "The `COVID19Dataset` below does:\n",
        "* read `.csv` files\n",
        "* extract features\n",
        "* split `covid.train.csv` into train/dev sets\n",
        "* normalize features\n",
        "\n",
        "Finishing `TODO` below might make you pass medium baseline."
      ]
    },
    {
      "cell_type": "code",
      "metadata": {
        "id": "0zlpIp9ANJRU"
      },
      "source": [
        "class COVID19Dataset(Dataset):\n",
        "    ''' Dataset for loading and preprocessing the COVID19 dataset '''\n",
        "    def __init__(self,\n",
        "                 path,\n",
        "                 mode='train',\n",
        "                 target_only=False): # 初始化时会接收三个参数：path--文件路径，mode--指定数据集的类型，target_only--\n",
        "        self.mode = mode\n",
        "\n",
        "        # Read data into numpy arrays\n",
        "        with open(path, 'r') as fp:\n",
        "            data = list(csv.reader(fp))\n",
        "            data = np.array(data[1:])[:, 1:].astype(float) # data[1:]用来去掉表头，[:,1:]表示去掉第一列\n",
        "\n",
        "        if not target_only:\n",
        "            feats = list(range(93))\n",
        "        else:\n",
        "            # TODO: Using 40 states & 2 tested_positive features (indices = 57 & 75)\n",
        "            feats = list(range(40)) + [57, 75]\n",
        "            pass\n",
        "\n",
        "        if mode == 'test':\n",
        "            # Testing data\n",
        "            # data: 893 x 93 (40 states + day 1 (18) + day 2 (18) + day 3 (17))\n",
        "            data = data[:, feats]\n",
        "            self.data = torch.FloatTensor(data)\n",
        "        else:\n",
        "            # Training data (train/dev sets)\n",
        "            # data: 2700 x 94 (40 states + day 1 (18) + day 2 (18) + day 3 (18))\n",
        "            target = data[:, -1]\n",
        "            data = data[:, feats]\n",
        "\n",
        "            # Splitting training data into train & dev sets\n",
        "            if mode == 'train':\n",
        "                indices = [i for i in range(len(data)) if i % 10 != 0]\n",
        "            elif mode == 'dev':\n",
        "                indices = [i for i in range(len(data)) if i % 10 == 0]\n",
        "\n",
        "            # Convert data into PyTorch tensors\n",
        "            self.data = torch.FloatTensor(data[indices])\n",
        "            self.target = torch.FloatTensor(target[indices])\n",
        "\n",
        "        # Normalize features (you may remove this part to see what will happen)\n",
        "        self.data[:, 40:] = \\\n",
        "            (self.data[:, 40:] - self.data[:, 40:].mean(dim=0, keepdim=True)) \\\n",
        "            / self.data[:, 40:].std(dim=0, keepdim=True)\n",
        "\n",
        "        self.dim = self.data.shape[1]\n",
        "\n",
        "        print('Finished reading the {} set of COVID19 Dataset ({} samples found, each dim = {})'\n",
        "              .format(mode, len(self.data), self.dim))\n",
        "\n",
        "    def __getitem__(self, index):\n",
        "        # Returns one sample at a time\n",
        "        if self.mode in ['train', 'dev']:\n",
        "            # For training\n",
        "            return self.data[index], self.target[index]\n",
        "        else:\n",
        "            # For testing (no target)\n",
        "            return self.data[index]\n",
        "\n",
        "    def __len__(self):\n",
        "        # Returns the size of the dataset\n",
        "        return len(self.data)"
      ],
      "execution_count": 4,
      "outputs": []
    },
    {
      "cell_type": "markdown",
      "metadata": {
        "id": "AlhTlkE7MDo3"
      },
      "source": [
        "## **DataLoader**\n",
        "\n",
        "A `DataLoader` loads data from a given `Dataset` into batches.\n"
      ]
    },
    {
      "cell_type": "code",
      "metadata": {
        "id": "hlhLk5t6MBX3"
      },
      "source": [
        "def prep_dataloader(path, mode, batch_size, n_jobs=0, target_only=False):\n",
        "    ''' Generates a dataset, then is put into a dataloader. '''\n",
        "    dataset = COVID19Dataset(path, mode=mode, target_only=target_only)  # Construct dataset\n",
        "    dataloader = DataLoader(\n",
        "        dataset, batch_size,\n",
        "        shuffle=(mode == 'train'), drop_last=False,\n",
        "        num_workers=n_jobs, pin_memory=True)                            # Construct dataloader\n",
        "    return dataloader"
      ],
      "execution_count": 5,
      "outputs": []
    },
    {
      "cell_type": "markdown",
      "metadata": {
        "id": "SGuycwR0MeQB"
      },
      "source": [
        "# **Deep Neural Network**\n",
        "\n",
        "`NeuralNet` is an `nn.Module` designed for regression.\n",
        "The DNN consists of 2 fully-connected layers with ReLU activation.\n",
        "This module also included a function `cal_loss` for calculating loss.\n"
      ]
    },
    {
      "cell_type": "code",
      "metadata": {
        "id": "49-uXYovOAI0"
      },
      "source": [
        "class NeuralNet(nn.Module):\n",
        "    ''' A simple fully-connected deep neural network '''\n",
        "    def __init__(self, input_dim):\n",
        "        super(NeuralNet, self).__init__()\n",
        "\n",
        "        # Define your neural network here\n",
        "        # TODO: How to modify this model to achieve better performance?\n",
        "        '''\n",
        "        self.net = nn.Sequential(\n",
        "            nn.Linear(input_dim, 64), # 输入层 -> 隐藏层，64个神经元\n",
        "            nn.ReLU(), # ReLu激活函数\n",
        "            nn.Linear(64, 1) # 隐藏层 -> 输出层，1个神经元\n",
        "        )\n",
        "        '''\n",
        "        self.net = nn.Sequential(\n",
        "            nn.Linear(input_dim, 16),\n",
        "            nn.ReLU(),\n",
        "            nn.Linear(16,16),\n",
        "            nn.ReLU(),\n",
        "            nn.Linear(16,1)\n",
        "        )\n",
        "        # Mean squared error loss\n",
        "        self.criterion = nn.MSELoss(reduction='mean')\n",
        "\n",
        "    def forward(self, x):\n",
        "        ''' Given input of size (batch_size x input_dim), compute output of the network '''\n",
        "        return self.net(x).squeeze(1)\n",
        "\n",
        "    def cal_loss(self, pred, target, lambad_l2 = 0.01):\n",
        "        ''' Calculate loss with L2 regulatization'''\n",
        "        # TODO: you may implement L1/L2 regularization here\n",
        "        self.criterion = nn.MSELoss()\n",
        "\n",
        "        loss = self.criterion(pred, target)\n",
        "\n",
        "        l2_reg = 0\n",
        "        for param in self.net.parameters():\n",
        "          l2_reg += torch.sum(param**2)\n",
        "\n",
        "        loss += lambad_l2 * l2_reg\n",
        "\n",
        "        return loss"
      ],
      "execution_count": 6,
      "outputs": []
    },
    {
      "cell_type": "markdown",
      "metadata": {
        "id": "DvFWVjZ5Nvga"
      },
      "source": [
        "# **Train/Dev/Test**"
      ]
    },
    {
      "cell_type": "markdown",
      "metadata": {
        "id": "MAM8QecJOyqn"
      },
      "source": [
        "## **Training**"
      ]
    },
    {
      "cell_type": "code",
      "metadata": {
        "id": "lOqcmYzMO7jB"
      },
      "source": [
        "def train(tr_set, dv_set, model, config, device):\n",
        "    ''' DNN training '''\n",
        "\n",
        "    n_epochs = config['n_epochs']  # Maximum number of epochs\n",
        "\n",
        "    # Setup optimizer\n",
        "    optimizer = getattr(torch.optim, config['optimizer'])(\n",
        "        model.parameters(), **config['optim_hparas'])\n",
        "\n",
        "    min_mse = 1000.\n",
        "    loss_record = {'train': [], 'dev': []}      # for recording training loss\n",
        "    early_stop_cnt = 0\n",
        "    epoch = 0\n",
        "    while epoch < n_epochs:\n",
        "        model.train()                           # set model to training mode\n",
        "        for x, y in tr_set:                     # iterate through the dataloader\n",
        "            optimizer.zero_grad()               # set gradient to zero\n",
        "            x, y = x.to(device), y.to(device)   # move data to device (cpu/cuda)\n",
        "            pred = model(x)                     # forward pass (compute output)\n",
        "            mse_loss = model.cal_loss(pred, y)  # compute loss\n",
        "            mse_loss.backward()                 # compute gradient (backpropagation)\n",
        "            optimizer.step()                    # update model with optimizer\n",
        "            loss_record['train'].append(mse_loss.detach().cpu().item())\n",
        "\n",
        "        # After each epoch, test your model on the validation (development) set.\n",
        "        dev_mse = dev(dv_set, model, device)\n",
        "        if dev_mse < min_mse:\n",
        "            # Save model if your model improved\n",
        "            min_mse = dev_mse\n",
        "            print('Saving model (epoch = {:4d}, loss = {:.4f})'\n",
        "                .format(epoch + 1, min_mse))\n",
        "            torch.save(model.state_dict(), config['save_path'])  # Save model to specified path\n",
        "            early_stop_cnt = 0\n",
        "        else:\n",
        "            early_stop_cnt += 1\n",
        "\n",
        "        epoch += 1\n",
        "        loss_record['dev'].append(dev_mse)\n",
        "        if early_stop_cnt > config['early_stop']:\n",
        "            # Stop training if your model stops improving for \"config['early_stop']\" epochs.\n",
        "            break\n",
        "\n",
        "    print('Finished training after {} epochs'.format(epoch))\n",
        "    return min_mse, loss_record"
      ],
      "execution_count": 7,
      "outputs": []
    },
    {
      "cell_type": "markdown",
      "metadata": {
        "id": "0hSd4Bn3O2PL"
      },
      "source": [
        "## **Validation**"
      ]
    },
    {
      "cell_type": "code",
      "metadata": {
        "id": "yrxrD3YsN3U2"
      },
      "source": [
        "def dev(dv_set, model, device):\n",
        "    model.eval()                                # set model to evalutation mode\n",
        "    total_loss = 0\n",
        "    for x, y in dv_set:                         # iterate through the dataloader\n",
        "        x, y = x.to(device), y.to(device)       # move data to device (cpu/cuda)\n",
        "        with torch.no_grad():                   # disable gradient calculation\n",
        "            pred = model(x)                     # forward pass (compute output)\n",
        "            mse_loss = model.cal_loss(pred, y)  # compute loss\n",
        "        total_loss += mse_loss.detach().cpu().item() * len(x)  # accumulate loss\n",
        "    total_loss = total_loss / len(dv_set.dataset)              # compute averaged loss\n",
        "\n",
        "    return total_loss"
      ],
      "execution_count": 8,
      "outputs": []
    },
    {
      "cell_type": "markdown",
      "metadata": {
        "id": "g0pdrhQAO41L"
      },
      "source": [
        "## **Testing**"
      ]
    },
    {
      "cell_type": "code",
      "metadata": {
        "id": "aSBMRFlYN5tB"
      },
      "source": [
        "def test(tt_set, model, device):\n",
        "    model.eval()                                # set model to evalutation mode\n",
        "    preds = []\n",
        "    for x in tt_set:                            # iterate through the dataloader\n",
        "        x = x.to(device)                        # move data to device (cpu/cuda)\n",
        "        with torch.no_grad():                   # disable gradient calculation\n",
        "            pred = model(x)                     # forward pass (compute output)\n",
        "            preds.append(pred.detach().cpu())   # collect prediction\n",
        "    preds = torch.cat(preds, dim=0).numpy()     # concatenate all predictions and convert to a numpy array\n",
        "    return preds"
      ],
      "execution_count": 9,
      "outputs": []
    },
    {
      "cell_type": "markdown",
      "metadata": {
        "id": "SvckkF5dvf0j"
      },
      "source": [
        "# **Setup Hyper-parameters**\n",
        "\n",
        "`config` contains hyper-parameters for training and the path to save your model."
      ]
    },
    {
      "cell_type": "code",
      "metadata": {
        "id": "NPXpdumwPjE7"
      },
      "source": [
        "device = get_device()                 # get the current available device ('cpu' or 'cuda')\n",
        "os.makedirs('models', exist_ok=True)  # The trained model will be saved to ./models/\n",
        "target_only = True                   # TODO: Using 40 states & 2 tested_positive features\n",
        "\n",
        "# TODO: How to tune these hyper-parameters to improve your model's performance?\n",
        "config = {\n",
        "    'n_epochs': 3200,                # maximum number of epochs\n",
        "    'batch_size': 270,               # mini-batch size for dataloader\n",
        "    'optimizer': 'SGD',              # optimization algorithm (optimizer in torch.optim)\n",
        "    'optim_hparas': {                # hyper-parameters for the optimizer (depends on which optimizer you are using)\n",
        "        'lr': 0.001,                 # learning rate of SGD\n",
        "        'momentum': 0.9              # momentum for SGD\n",
        "    },\n",
        "    'early_stop': 250,               # early stopping epochs (the number epochs since your model's last improvement)\n",
        "    'save_path': 'models/model.pth'  # your model will be saved here\n",
        "}"
      ],
      "execution_count": 10,
      "outputs": []
    },
    {
      "cell_type": "markdown",
      "metadata": {
        "id": "6j1eOV3TOH-j"
      },
      "source": [
        "# **Load data and model**"
      ]
    },
    {
      "cell_type": "code",
      "metadata": {
        "colab": {
          "base_uri": "https://localhost:8080/"
        },
        "id": "eNrYBMmePLKm",
        "outputId": "5d8b4bac-1e07-4433-8a07-104c6ac547b2"
      },
      "source": [
        "tr_set = prep_dataloader(tr_path, 'train', config['batch_size'], target_only=target_only)\n",
        "dv_set = prep_dataloader(tr_path, 'dev', config['batch_size'], target_only=target_only)\n",
        "tt_set = prep_dataloader(tt_path, 'test', config['batch_size'], target_only=target_only)"
      ],
      "execution_count": 11,
      "outputs": [
        {
          "output_type": "stream",
          "name": "stdout",
          "text": [
            "Finished reading the train set of COVID19 Dataset (2430 samples found, each dim = 42)\n",
            "Finished reading the dev set of COVID19 Dataset (270 samples found, each dim = 42)\n",
            "Finished reading the test set of COVID19 Dataset (893 samples found, each dim = 42)\n"
          ]
        }
      ]
    },
    {
      "cell_type": "code",
      "metadata": {
        "id": "FHylSirLP9oh"
      },
      "source": [
        "model = NeuralNet(tr_set.dataset.dim).to(device)  # Construct model and move to device"
      ],
      "execution_count": 12,
      "outputs": []
    },
    {
      "cell_type": "markdown",
      "metadata": {
        "id": "sX2B_zgSOPTJ"
      },
      "source": [
        "# **Start Training!**"
      ]
    },
    {
      "cell_type": "code",
      "metadata": {
        "colab": {
          "base_uri": "https://localhost:8080/"
        },
        "id": "GrEbUxazQAAZ",
        "outputId": "76347637-4664-485f-8da6-28c4b98168b6",
        "collapsed": true
      },
      "source": [
        "model_loss, model_loss_record = train(tr_set, dv_set, model, config, device)"
      ],
      "execution_count": 13,
      "outputs": [
        {
          "output_type": "stream",
          "name": "stdout",
          "text": [
            "Saving model (epoch =    1, loss = 273.8796)\n",
            "Saving model (epoch =    2, loss = 69.8278)\n",
            "Saving model (epoch =    3, loss = 19.0264)\n",
            "Saving model (epoch =    4, loss = 11.0472)\n",
            "Saving model (epoch =    5, loss = 9.4121)\n",
            "Saving model (epoch =    6, loss = 6.0572)\n",
            "Saving model (epoch =    7, loss = 2.8581)\n",
            "Saving model (epoch =    8, loss = 2.3316)\n",
            "Saving model (epoch =    9, loss = 2.2080)\n",
            "Saving model (epoch =   10, loss = 2.0059)\n",
            "Saving model (epoch =   11, loss = 1.8764)\n",
            "Saving model (epoch =   12, loss = 1.8500)\n",
            "Saving model (epoch =   13, loss = 1.8094)\n",
            "Saving model (epoch =   14, loss = 1.7632)\n",
            "Saving model (epoch =   15, loss = 1.7451)\n",
            "Saving model (epoch =   16, loss = 1.7353)\n",
            "Saving model (epoch =   17, loss = 1.7209)\n",
            "Saving model (epoch =   18, loss = 1.7059)\n",
            "Saving model (epoch =   19, loss = 1.7006)\n",
            "Saving model (epoch =   20, loss = 1.6828)\n",
            "Saving model (epoch =   21, loss = 1.6752)\n",
            "Saving model (epoch =   22, loss = 1.6597)\n",
            "Saving model (epoch =   23, loss = 1.6579)\n",
            "Saving model (epoch =   24, loss = 1.6509)\n",
            "Saving model (epoch =   25, loss = 1.6313)\n",
            "Saving model (epoch =   28, loss = 1.6196)\n",
            "Saving model (epoch =   30, loss = 1.6029)\n",
            "Saving model (epoch =   31, loss = 1.5931)\n",
            "Saving model (epoch =   32, loss = 1.5827)\n",
            "Saving model (epoch =   34, loss = 1.5636)\n",
            "Saving model (epoch =   36, loss = 1.5582)\n",
            "Saving model (epoch =   37, loss = 1.5514)\n",
            "Saving model (epoch =   41, loss = 1.5314)\n",
            "Saving model (epoch =   42, loss = 1.5281)\n",
            "Saving model (epoch =   43, loss = 1.5207)\n",
            "Saving model (epoch =   44, loss = 1.5178)\n",
            "Saving model (epoch =   45, loss = 1.5103)\n",
            "Saving model (epoch =   47, loss = 1.5035)\n",
            "Saving model (epoch =   49, loss = 1.5030)\n",
            "Saving model (epoch =   50, loss = 1.5006)\n",
            "Saving model (epoch =   51, loss = 1.4962)\n",
            "Saving model (epoch =   52, loss = 1.4859)\n",
            "Saving model (epoch =   54, loss = 1.4835)\n",
            "Saving model (epoch =   55, loss = 1.4799)\n",
            "Saving model (epoch =   56, loss = 1.4720)\n",
            "Saving model (epoch =   59, loss = 1.4672)\n",
            "Saving model (epoch =   60, loss = 1.4672)\n",
            "Saving model (epoch =   62, loss = 1.4591)\n",
            "Saving model (epoch =   65, loss = 1.4561)\n",
            "Saving model (epoch =   68, loss = 1.4501)\n",
            "Saving model (epoch =   69, loss = 1.4487)\n",
            "Saving model (epoch =   70, loss = 1.4439)\n",
            "Saving model (epoch =   72, loss = 1.4362)\n",
            "Saving model (epoch =   80, loss = 1.4286)\n",
            "Saving model (epoch =   82, loss = 1.4276)\n",
            "Saving model (epoch =   83, loss = 1.4217)\n",
            "Saving model (epoch =   85, loss = 1.4201)\n",
            "Saving model (epoch =   86, loss = 1.4180)\n",
            "Saving model (epoch =   92, loss = 1.4047)\n",
            "Saving model (epoch =   99, loss = 1.3988)\n",
            "Saving model (epoch =  106, loss = 1.3979)\n",
            "Saving model (epoch =  108, loss = 1.3919)\n",
            "Saving model (epoch =  112, loss = 1.3913)\n",
            "Saving model (epoch =  114, loss = 1.3902)\n",
            "Saving model (epoch =  115, loss = 1.3901)\n",
            "Saving model (epoch =  117, loss = 1.3889)\n",
            "Saving model (epoch =  118, loss = 1.3870)\n",
            "Saving model (epoch =  119, loss = 1.3832)\n",
            "Saving model (epoch =  121, loss = 1.3814)\n",
            "Saving model (epoch =  125, loss = 1.3810)\n",
            "Saving model (epoch =  128, loss = 1.3757)\n",
            "Saving model (epoch =  130, loss = 1.3722)\n",
            "Saving model (epoch =  133, loss = 1.3701)\n",
            "Saving model (epoch =  141, loss = 1.3662)\n",
            "Saving model (epoch =  144, loss = 1.3626)\n",
            "Saving model (epoch =  148, loss = 1.3599)\n",
            "Saving model (epoch =  152, loss = 1.3589)\n",
            "Saving model (epoch =  153, loss = 1.3558)\n",
            "Saving model (epoch =  163, loss = 1.3556)\n",
            "Saving model (epoch =  164, loss = 1.3530)\n",
            "Saving model (epoch =  167, loss = 1.3529)\n",
            "Saving model (epoch =  168, loss = 1.3502)\n",
            "Saving model (epoch =  169, loss = 1.3473)\n",
            "Saving model (epoch =  171, loss = 1.3447)\n",
            "Saving model (epoch =  177, loss = 1.3438)\n",
            "Saving model (epoch =  186, loss = 1.3416)\n",
            "Saving model (epoch =  189, loss = 1.3363)\n",
            "Saving model (epoch =  192, loss = 1.3329)\n",
            "Saving model (epoch =  199, loss = 1.3318)\n",
            "Saving model (epoch =  202, loss = 1.3288)\n",
            "Saving model (epoch =  204, loss = 1.3276)\n",
            "Saving model (epoch =  216, loss = 1.3230)\n",
            "Saving model (epoch =  218, loss = 1.3211)\n",
            "Saving model (epoch =  222, loss = 1.3187)\n",
            "Saving model (epoch =  229, loss = 1.3179)\n",
            "Saving model (epoch =  231, loss = 1.3138)\n",
            "Saving model (epoch =  240, loss = 1.3137)\n",
            "Saving model (epoch =  242, loss = 1.3090)\n",
            "Saving model (epoch =  250, loss = 1.3063)\n",
            "Saving model (epoch =  262, loss = 1.3044)\n",
            "Saving model (epoch =  264, loss = 1.3033)\n",
            "Saving model (epoch =  272, loss = 1.3016)\n",
            "Saving model (epoch =  281, loss = 1.2950)\n",
            "Saving model (epoch =  285, loss = 1.2937)\n",
            "Saving model (epoch =  287, loss = 1.2926)\n",
            "Saving model (epoch =  293, loss = 1.2895)\n",
            "Saving model (epoch =  295, loss = 1.2889)\n",
            "Saving model (epoch =  306, loss = 1.2872)\n",
            "Saving model (epoch =  316, loss = 1.2859)\n",
            "Saving model (epoch =  318, loss = 1.2844)\n",
            "Saving model (epoch =  321, loss = 1.2820)\n",
            "Saving model (epoch =  338, loss = 1.2787)\n",
            "Saving model (epoch =  339, loss = 1.2781)\n",
            "Saving model (epoch =  340, loss = 1.2759)\n",
            "Saving model (epoch =  342, loss = 1.2724)\n",
            "Saving model (epoch =  349, loss = 1.2713)\n",
            "Saving model (epoch =  354, loss = 1.2693)\n",
            "Saving model (epoch =  367, loss = 1.2686)\n",
            "Saving model (epoch =  373, loss = 1.2673)\n",
            "Saving model (epoch =  376, loss = 1.2638)\n",
            "Saving model (epoch =  379, loss = 1.2638)\n",
            "Saving model (epoch =  383, loss = 1.2626)\n",
            "Saving model (epoch =  392, loss = 1.2605)\n",
            "Saving model (epoch =  396, loss = 1.2601)\n",
            "Saving model (epoch =  400, loss = 1.2561)\n",
            "Saving model (epoch =  402, loss = 1.2560)\n",
            "Saving model (epoch =  419, loss = 1.2539)\n",
            "Saving model (epoch =  426, loss = 1.2528)\n",
            "Saving model (epoch =  435, loss = 1.2517)\n",
            "Saving model (epoch =  442, loss = 1.2477)\n",
            "Saving model (epoch =  451, loss = 1.2470)\n",
            "Saving model (epoch =  456, loss = 1.2441)\n",
            "Saving model (epoch =  460, loss = 1.2440)\n",
            "Saving model (epoch =  466, loss = 1.2424)\n",
            "Saving model (epoch =  471, loss = 1.2382)\n",
            "Saving model (epoch =  484, loss = 1.2367)\n",
            "Saving model (epoch =  491, loss = 1.2360)\n",
            "Saving model (epoch =  503, loss = 1.2352)\n",
            "Saving model (epoch =  512, loss = 1.2321)\n",
            "Saving model (epoch =  525, loss = 1.2302)\n",
            "Saving model (epoch =  534, loss = 1.2269)\n",
            "Saving model (epoch =  560, loss = 1.2262)\n",
            "Saving model (epoch =  564, loss = 1.2249)\n",
            "Saving model (epoch =  568, loss = 1.2211)\n",
            "Saving model (epoch =  591, loss = 1.2186)\n",
            "Saving model (epoch =  609, loss = 1.2178)\n",
            "Saving model (epoch =  612, loss = 1.2152)\n",
            "Saving model (epoch =  615, loss = 1.2150)\n",
            "Saving model (epoch =  627, loss = 1.2146)\n",
            "Saving model (epoch =  648, loss = 1.2122)\n",
            "Saving model (epoch =  650, loss = 1.2106)\n",
            "Saving model (epoch =  670, loss = 1.2075)\n",
            "Saving model (epoch =  690, loss = 1.2066)\n",
            "Saving model (epoch =  700, loss = 1.2055)\n",
            "Saving model (epoch =  707, loss = 1.2045)\n",
            "Saving model (epoch =  726, loss = 1.2013)\n",
            "Saving model (epoch =  740, loss = 1.2012)\n",
            "Saving model (epoch =  788, loss = 1.1985)\n",
            "Saving model (epoch =  809, loss = 1.1947)\n",
            "Saving model (epoch =  843, loss = 1.1940)\n",
            "Saving model (epoch =  862, loss = 1.1931)\n",
            "Saving model (epoch =  899, loss = 1.1878)\n",
            "Saving model (epoch =  922, loss = 1.1875)\n",
            "Saving model (epoch =  960, loss = 1.1858)\n",
            "Saving model (epoch = 1013, loss = 1.1843)\n",
            "Saving model (epoch = 1018, loss = 1.1826)\n",
            "Saving model (epoch = 1036, loss = 1.1825)\n",
            "Saving model (epoch = 1088, loss = 1.1803)\n",
            "Saving model (epoch = 1188, loss = 1.1794)\n",
            "Saving model (epoch = 1235, loss = 1.1792)\n",
            "Saving model (epoch = 1281, loss = 1.1778)\n",
            "Saving model (epoch = 1365, loss = 1.1777)\n",
            "Saving model (epoch = 1413, loss = 1.1752)\n",
            "Saving model (epoch = 1594, loss = 1.1746)\n",
            "Saving model (epoch = 1617, loss = 1.1738)\n",
            "Finished training after 1868 epochs\n"
          ]
        }
      ]
    },
    {
      "cell_type": "code",
      "metadata": {
        "colab": {
          "base_uri": "https://localhost:8080/",
          "height": 410
        },
        "id": "hsNO9nnXQBvP",
        "outputId": "b0b9c25e-b81e-497c-f760-df2fb609d604"
      },
      "source": [
        "plot_learning_curve(model_loss_record, title='deep model')"
      ],
      "execution_count": 14,
      "outputs": [
        {
          "output_type": "display_data",
          "data": {
            "text/plain": [
              "<Figure size 600x400 with 1 Axes>"
            ],
            "image/png": "[encoded data removed]"
          },
          "metadata": {}
        }
      ]
    },
    {
      "cell_type": "code",
      "metadata": {
        "colab": {
          "base_uri": "https://localhost:8080/",
          "height": 487
        },
        "id": "3iZTVn5WQFpX",
        "outputId": "11c242d8-16e2-45f6-ab82-e4aa8405b4f9"
      },
      "source": [
        "del model\n",
        "model = NeuralNet(tr_set.dataset.dim).to(device)\n",
        "ckpt = torch.load(config['save_path'], map_location='cpu')  # Load your best model\n",
        "model.load_state_dict(ckpt)\n",
        "plot_pred(dv_set, model, device)  # Show prediction on the validation set"
      ],
      "execution_count": 15,
      "outputs": [
        {
          "output_type": "display_data",
          "data": {
            "text/plain": [
              "<Figure size 500x500 with 1 Axes>"
            ],
            "image/png": "[encoded data removed]"
          },
          "metadata": {}
        }
      ]
    },
    {
      "cell_type": "markdown",
      "metadata": {
        "id": "aQikz3IPiyPf"
      },
      "source": [
        "# **Testing**\n",
        "The predictions of your model on testing set will be stored at `pred.csv`."
      ]
    },
    {
      "cell_type": "code",
      "metadata": {
        "colab": {
          "base_uri": "https://localhost:8080/"
        },
        "id": "O8cTuQjQQOon",
        "outputId": "72cb4841-2bb1-4303-8fdf-cc1cd7a7dae1"
      },
      "source": [
        "def save_pred(preds, file):\n",
        "    ''' Save predictions to specified file '''\n",
        "    print('Saving results to {}'.format(file))\n",
        "    with open(file, 'w') as fp:\n",
        "        writer = csv.writer(fp)\n",
        "        writer.writerow(['id', 'tested_positive'])\n",
        "        for i, p in enumerate(preds):\n",
        "            writer.writerow([i, p])\n",
        "\n",
        "preds = test(tt_set, model, device)  # predict COVID-19 cases with your model\n",
        "save_pred(preds, 'pred.csv')         # save prediction file to pred.csv"
      ],
      "execution_count": 16,
      "outputs": [
        {
          "output_type": "stream",
          "name": "stdout",
          "text": [
            "Saving results to pred.csv\n"
          ]
        }
      ]
    },
    {
      "cell_type": "markdown",
      "metadata": {
        "id": "nfrVxqJanGpE"
      },
      "source": [
        "# **Hints**\n",
        "\n",
        "## **Simple Baseline**\n",
        "* Run sample code\n",
        "\n",
        "## **Medium Baseline**\n",
        "* Feature selection: 40 states + 2 `tested_positive` (`TODO` in dataset)\n",
        "\n",
        "## **Strong Baseline**\n",
        "* Feature selection (what other features are useful?)\n",
        "* DNN architecture (layers? dimension? activation function?)\n",
        "* Training (mini-batch? optimizer? learning rate?)\n",
        "* L2 regularization\n",
        "* There are some mistakes in the sample code, can you find them?"
      ]
    },
    {
      "cell_type": "markdown",
      "metadata": {
        "id": "9tmCwXgpot3t"
      },
      "source": [
        "# **Reference**\n",
        "This code is completely written by Heng-Jui Chang @ NTUEE.  \n",
        "Copying or reusing this code is required to specify the original author.\n",
        "\n",
        "E.g.  \n",
        "Source: Heng-Jui Chang @ NTUEE (https://github.com/ga642381/ML2021-Spring/blob/main/HW01/HW01.ipynb)\n"
      ]
    }
  ]
}