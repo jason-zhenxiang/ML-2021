{
  "nbformat": 4,
  "nbformat_minor": 0,
  "metadata": {
    "colab": {
      "name": "ML2021Spring - HW1.ipynb",
      "provenance": [],
      "include_colab_link": true
    },
    "kernelspec": {
      "name": "python3",
      "display_name": "Python 3"
    },
    "accelerator": "GPU"
  },
  "cells": [
    {
      "cell_type": "markdown",
      "metadata": {
        "id": "view-in-github",
        "colab_type": "text"
      },
      "source": [
        "<a href=\"https://colab.research.google.com/github/jason-zhenxiang/ML-2021/blob/main/HW01/7.28%E5%B7%A5%E4%BD%9C.ipynb\" target=\"_parent\"><img src=\"https://colab.research.google.com/assets/colab-badge.svg\" alt=\"Open In Colab\"/></a>"
      ]
    },
    {
      "cell_type": "markdown",
      "metadata": {
        "id": "mz0_QVkxCrX3"
      },
      "source": [
        "# **Homework 1: COVID-19 Cases Prediction (Regression)**"
      ]
    },
    {
      "cell_type": "markdown",
      "metadata": {
        "id": "ZeZnPAiwDRWG"
      },
      "source": [
        "Author: Heng-Jui Chang\n",
        "\n",
        "Slides: https://github.com/ga642381/ML2021-Spring/blob/main/HW01/HW01.pdf  \n",
        "Videos (Mandarin): https://cool.ntu.edu.tw/courses/4793/modules/items/172854  \n",
        "https://cool.ntu.edu.tw/courses/4793/modules/items/172853  \n",
        "Video (English): https://cool.ntu.edu.tw/courses/4793/modules/items/176529\n",
        "\n",
        "\n",
        "Objectives:\n",
        "* Solve a regression problem with deep neural networks (DNN).\n",
        "* Understand basic DNN training tips.\n",
        "* Get familiar with PyTorch.\n",
        "\n",
        "If any questions, please contact the TAs via TA hours, NTU COOL, or email.\n"
      ]
    },
    {
      "cell_type": "markdown",
      "metadata": {
        "id": "Jx3x1nDkG-Uy"
      },
      "source": [
        "# **Download Data**\n",
        "\n",
        "\n",
        "If the Google drive links are dead, you can download data from [kaggle](https://www.kaggle.com/c/ml2021spring-hw1/data), and upload data manually to the workspace."
      ]
    },
    {
      "cell_type": "code",
      "metadata": {
        "colab": {
          "base_uri": "https://localhost:8080/"
        },
        "id": "tMj55YDKG6ch",
        "outputId": "1b40ac19-bdf9-4684-ebe4-cc75295e91b9"
      },
      "source": [
        "tr_path = 'covid.train.csv'  # path to training data\n",
        "tt_path = 'covid.test.csv'   # path to testing data\n",
        "\n",
        "!gdown --id '19CCyCgJrUxtvgZF53vnctJiOJ23T5mqF' --output covid.train.csv\n",
        "!gdown --id '1CE240jLm2npU-tdz81-oVKEF3T2yfT1O' --output covid.test.csv"
      ],
      "execution_count": 70,
      "outputs": [
        {
          "output_type": "stream",
          "name": "stdout",
          "text": [
            "/usr/local/lib/python3.11/dist-packages/gdown/__main__.py:140: FutureWarning: Option `--id` was deprecated in version 4.3.1 and will be removed in 5.0. You don't need to pass it anymore to use a file ID.\n",
            "  warnings.warn(\n",
            "Downloading...\n",
            "From: https://drive.google.com/uc?id=19CCyCgJrUxtvgZF53vnctJiOJ23T5mqF\n",
            "To: /content/covid.train.csv\n",
            "100% 2.00M/2.00M [00:00<00:00, 134MB/s]\n",
            "/usr/local/lib/python3.11/dist-packages/gdown/__main__.py:140: FutureWarning: Option `--id` was deprecated in version 4.3.1 and will be removed in 5.0. You don't need to pass it anymore to use a file ID.\n",
            "  warnings.warn(\n",
            "Downloading...\n",
            "From: https://drive.google.com/uc?id=1CE240jLm2npU-tdz81-oVKEF3T2yfT1O\n",
            "To: /content/covid.test.csv\n",
            "100% 651k/651k [00:00<00:00, 124MB/s]\n"
          ]
        }
      ]
    },
    {
      "cell_type": "markdown",
      "metadata": {
        "id": "wS_4-77xHk44"
      },
      "source": [
        "# **Import Some Packages**"
      ]
    },
    {
      "cell_type": "code",
      "metadata": {
        "id": "k-onQd4JNA5H"
      },
      "source": [
        "# PyTorch\n",
        "import torch\n",
        "import torch.nn as nn\n",
        "from torch.utils.data import Dataset, DataLoader\n",
        "\n",
        "from sklearn.feature_selection import SelectKBest\n",
        "from sklearn.feature_selection import chi2\n",
        "\n",
        "# For data preprocess\n",
        "import numpy as np\n",
        "import pandas as pd\n",
        "import csv\n",
        "import os\n",
        "\n",
        "# For plotting\n",
        "import matplotlib.pyplot as plt\n",
        "from matplotlib.pyplot import figure\n",
        "\n",
        "myseed = 42069  # set a random seed for reproducibility\n",
        "torch.backends.cudnn.deterministic = True\n",
        "torch.backends.cudnn.benchmark = False\n",
        "np.random.seed(myseed)\n",
        "torch.manual_seed(myseed)\n",
        "if torch.cuda.is_available():\n",
        "    torch.cuda.manual_seed_all(myseed)"
      ],
      "execution_count": 71,
      "outputs": []
    },
    {
      "cell_type": "markdown",
      "metadata": {
        "id": "BtE3b6JEH7rw"
      },
      "source": [
        "# **Some Utilities**\n",
        "\n",
        "You do not need to modify this part."
      ]
    },
    {
      "cell_type": "code",
      "metadata": {
        "id": "FWMT3uf1NGQp"
      },
      "source": [
        "def get_device():\n",
        "    ''' Get device (if GPU is available, use GPU) '''\n",
        "    return 'cuda' if torch.cuda.is_available() else 'cpu'\n",
        "\n",
        "def plot_learning_curve(loss_record, title=''):\n",
        "    ''' Plot learning curve of your DNN (train & dev loss) '''\n",
        "    total_steps = len(loss_record['train'])\n",
        "    x_1 = range(total_steps)\n",
        "    x_2 = x_1[::len(loss_record['train']) // len(loss_record['dev'])]\n",
        "    figure(figsize=(6, 4))\n",
        "    plt.plot(x_1, loss_record['train'], c='tab:red', label='train')\n",
        "    plt.plot(x_2, loss_record['dev'], c='tab:cyan', label='dev')\n",
        "    plt.ylim(0.0, 5.)\n",
        "    plt.xlabel('Training steps')\n",
        "    plt.ylabel('MSE loss')\n",
        "    plt.title('Learning curve of {}'.format(title))\n",
        "    plt.legend()\n",
        "    plt.show()\n",
        "\n",
        "\n",
        "def plot_pred(dv_set, model, device, lim=35., preds=None, targets=None):\n",
        "    ''' Plot prediction of your DNN '''\n",
        "    if preds is None or targets is None:\n",
        "        model.eval()\n",
        "        preds, targets = [], []\n",
        "        for x, y in dv_set:\n",
        "            x, y = x.to(device), y.to(device)\n",
        "            with torch.no_grad():\n",
        "                pred = model(x)\n",
        "                preds.append(pred.detach().cpu())\n",
        "                targets.append(y.detach().cpu())\n",
        "        preds = torch.cat(preds, dim=0).numpy()\n",
        "        targets = torch.cat(targets, dim=0).numpy()\n",
        "\n",
        "    figure(figsize=(5, 5))\n",
        "    plt.scatter(targets, preds, c='r', alpha=0.5)\n",
        "    plt.plot([-0.2, lim], [-0.2, lim], c='b')\n",
        "    plt.xlim(-0.2, lim)\n",
        "    plt.ylim(-0.2, lim)\n",
        "    plt.xlabel('ground truth value')\n",
        "    plt.ylabel('predicted value')\n",
        "    plt.title('Ground Truth v.s. Prediction')\n",
        "    plt.show()"
      ],
      "execution_count": 72,
      "outputs": []
    },
    {
      "cell_type": "markdown",
      "metadata": {
        "id": "39U_XFX6KOoj"
      },
      "source": [
        "# **Preprocess**\n",
        "\n",
        "We have three kinds of datasets:\n",
        "* `train`: for training\n",
        "* `dev`: for validation\n",
        "* `test`: for testing (w/o target value)"
      ]
    },
    {
      "cell_type": "markdown",
      "metadata": {
        "id": "TQ-MdwpLL7Dt"
      },
      "source": [
        "## **Dataset**\n",
        "\n",
        "The `COVID19Dataset` below does:\n",
        "* read `.csv` files\n",
        "* extract features\n",
        "* split `covid.train.csv` into train/dev sets\n",
        "* normalize features\n",
        "\n",
        "Finishing `TODO` below might make you pass medium baseline."
      ]
    },
    {
      "cell_type": "code",
      "metadata": {
        "id": "0zlpIp9ANJRU"
      },
      "source": [
        "class COVID19Dataset(Dataset):\n",
        "    ''' Dataset for loading and preprocessing the COVID19 dataset '''\n",
        "    def __init__(self,\n",
        "                 path,\n",
        "                 mode='train',\n",
        "                 target_only=False): # 初始化时会接收三个参数：path--文件路径，mode--指定数据集的类型，target_only--\n",
        "        self.mode = mode\n",
        "\n",
        "        # Read data into numpy arrays\n",
        "        with open(path, 'r') as fp:\n",
        "            data = list(csv.reader(fp))\n",
        "            data = np.array(data[1:])[:, 1:].astype(float) # data[1:]用来去掉表头，[:,1:]表示去掉第一列\n",
        "\n",
        "        if not target_only:\n",
        "            feats = list(range(93))\n",
        "        else:\n",
        "            # TODO: Using 40 states & 2 tested_positive features (indices = 57 & 75)\n",
        "            feats = list(range(40)) + [75, 57, 42, 60, 78, 43, 61, 79, 40, 58, 76, 41, 59, 77, 92, 74, 56]\n",
        "            pass\n",
        "\n",
        "        if mode == 'test':\n",
        "            # Testing data\n",
        "            # data: 893 x 93 (40 states + day 1 (18) + day 2 (18) + day 3 (17))\n",
        "            data = data[:, feats]\n",
        "            self.data = torch.FloatTensor(data)\n",
        "        else:\n",
        "            # Training data (train/dev sets)\n",
        "            # data: 2700 x 94 (40 states + day 1 (18) + day 2 (18) + day 3 (18))\n",
        "            target = data[:, -1]\n",
        "            data = data[:, feats]\n",
        "\n",
        "            # Splitting training data into train & dev sets\n",
        "            if mode == 'train':\n",
        "                indices = [i for i in range(len(data)) if i % 10 != 0]\n",
        "            elif mode == 'dev':\n",
        "                indices = [i for i in range(len(data)) if i % 10 == 0]\n",
        "\n",
        "            # Convert data into PyTorch tensors\n",
        "            self.data = torch.FloatTensor(data[indices])\n",
        "            self.target = torch.FloatTensor(target[indices])\n",
        "\n",
        "        # Normalize features (you may remove this part to see what will happen)\n",
        "        self.data[:, 40:] = \\\n",
        "            (self.data[:, 40:] - self.data[:, 40:].mean(dim=0, keepdim=True)) \\\n",
        "            / self.data[:, 40:].std(dim=0, keepdim=True)\n",
        "\n",
        "        self.dim = self.data.shape[1]\n",
        "\n",
        "        print('Finished reading the {} set of COVID19 Dataset ({} samples found, each dim = {})'\n",
        "              .format(mode, len(self.data), self.dim))\n",
        "\n",
        "    def __getitem__(self, index):\n",
        "        # Returns one sample at a time\n",
        "        if self.mode in ['train', 'dev']:\n",
        "            # For training\n",
        "            return self.data[index], self.target[index]\n",
        "        else:\n",
        "            # For testing (no target)\n",
        "            return self.data[index]\n",
        "\n",
        "    def __len__(self):\n",
        "        # Returns the size of the dataset\n",
        "        return len(self.data)"
      ],
      "execution_count": 73,
      "outputs": []
    },
    {
      "cell_type": "markdown",
      "metadata": {
        "id": "AlhTlkE7MDo3"
      },
      "source": [
        "## **DataLoader**\n",
        "\n",
        "A `DataLoader` loads data from a given `Dataset` into batches.\n"
      ]
    },
    {
      "cell_type": "code",
      "metadata": {
        "id": "hlhLk5t6MBX3"
      },
      "source": [
        "def prep_dataloader(path, mode, batch_size, n_jobs=0, target_only=False):\n",
        "    ''' Generates a dataset, then is put into a dataloader. '''\n",
        "    dataset = COVID19Dataset(path, mode=mode, target_only=target_only)  # Construct dataset\n",
        "    dataloader = DataLoader(\n",
        "        dataset, batch_size,\n",
        "        shuffle=(mode == 'train'), drop_last=False,\n",
        "        num_workers=n_jobs, pin_memory=True)                            # Construct dataloader\n",
        "    return dataloader"
      ],
      "execution_count": 74,
      "outputs": []
    },
    {
      "cell_type": "markdown",
      "metadata": {
        "id": "SGuycwR0MeQB"
      },
      "source": [
        "# **Deep Neural Network**\n",
        "\n",
        "`NeuralNet` is an `nn.Module` designed for regression.\n",
        "The DNN consists of 2 fully-connected layers with ReLU activation.\n",
        "This module also included a function `cal_loss` for calculating loss.\n"
      ]
    },
    {
      "cell_type": "code",
      "metadata": {
        "id": "49-uXYovOAI0"
      },
      "source": [
        "class NeuralNet(nn.Module):\n",
        "    ''' A simple fully-connected deep neural network '''\n",
        "    def __init__(self, input_dim):\n",
        "        super(NeuralNet, self).__init__()\n",
        "\n",
        "        # Define your neural network here\n",
        "        # TODO: How to modify this model to achieve better performance?\n",
        "        '''\n",
        "        self.net = nn.Sequential(\n",
        "            nn.Linear(input_dim, 64), # 输入层 -> 隐藏层，64个神经元\n",
        "            nn.ReLU(), # ReLu激活函数\n",
        "            nn.Linear(64, 1) # 隐藏层 -> 输出层，1个神经元\n",
        "        )\n",
        "        '''\n",
        "        self.net = nn.Sequential(\n",
        "            nn.Linear(input_dim, 32),\n",
        "            nn.ReLU(),\n",
        "            nn.Linear(32,32),\n",
        "            nn.ReLU(),\n",
        "            nn.Linear(32,1)\n",
        "        )\n",
        "        # Mean squared error loss\n",
        "        self.criterion = nn.MSELoss(reduction='mean')\n",
        "\n",
        "    def forward(self, x):\n",
        "        ''' Given input of size (batch_size x input_dim), compute output of the network '''\n",
        "        return self.net(x).squeeze(1)\n",
        "\n",
        "    def cal_loss(self, pred, target, lambad_l2 = 0.01):\n",
        "        ''' Calculate loss with L2 regulatization'''\n",
        "        # TODO: you may implement L1/L2 regularization here\n",
        "        self.criterion = nn.MSELoss()\n",
        "\n",
        "        loss = self.criterion(pred, target)\n",
        "\n",
        "        l2_reg = 0\n",
        "        for param in self.net.parameters():\n",
        "          l2_reg += torch.sum(param**2)\n",
        "\n",
        "        loss += lambad_l2 * l2_reg\n",
        "\n",
        "        return loss"
      ],
      "execution_count": 75,
      "outputs": []
    },
    {
      "cell_type": "markdown",
      "metadata": {
        "id": "DvFWVjZ5Nvga"
      },
      "source": [
        "# **Train/Dev/Test**"
      ]
    },
    {
      "cell_type": "markdown",
      "metadata": {
        "id": "MAM8QecJOyqn"
      },
      "source": [
        "## **Training**"
      ]
    },
    {
      "cell_type": "code",
      "metadata": {
        "id": "lOqcmYzMO7jB"
      },
      "source": [
        "def train(tr_set, dv_set, model, config, device):\n",
        "    ''' DNN training '''\n",
        "\n",
        "    n_epochs = config['n_epochs']  # Maximum number of epochs\n",
        "\n",
        "    # Setup optimizer\n",
        "    optimizer = getattr(torch.optim, config['optimizer'])(\n",
        "        model.parameters(), **config['optim_hparas'])\n",
        "\n",
        "    min_mse = 1000.\n",
        "    loss_record = {'train': [], 'dev': []}      # for recording training loss\n",
        "    early_stop_cnt = 0\n",
        "    epoch = 0\n",
        "    while epoch < n_epochs:\n",
        "        model.train()                           # set model to training mode\n",
        "        for x, y in tr_set:                     # iterate through the dataloader\n",
        "            optimizer.zero_grad()               # set gradient to zero\n",
        "            x, y = x.to(device), y.to(device)   # move data to device (cpu/cuda)\n",
        "            pred = model(x)                     # forward pass (compute output)\n",
        "            mse_loss = model.cal_loss(pred, y)  # compute loss\n",
        "            mse_loss.backward()                 # compute gradient (backpropagation)\n",
        "            optimizer.step()                    # update model with optimizer\n",
        "            loss_record['train'].append(mse_loss.detach().cpu().item())\n",
        "\n",
        "        # After each epoch, test your model on the validation (development) set.\n",
        "        dev_mse = dev(dv_set, model, device)\n",
        "        if dev_mse < min_mse:\n",
        "            # Save model if your model improved\n",
        "            min_mse = dev_mse\n",
        "            print('Saving model (epoch = {:4d}, loss = {:.4f})'\n",
        "                .format(epoch + 1, min_mse))\n",
        "            torch.save(model.state_dict(), config['save_path'])  # Save model to specified path\n",
        "            early_stop_cnt = 0\n",
        "        else:\n",
        "            early_stop_cnt += 1\n",
        "\n",
        "        epoch += 1\n",
        "        loss_record['dev'].append(dev_mse)\n",
        "        if early_stop_cnt > config['early_stop']:\n",
        "            # Stop training if your model stops improving for \"config['early_stop']\" epochs.\n",
        "            break\n",
        "\n",
        "    print('Finished training after {} epochs'.format(epoch))\n",
        "    return min_mse, loss_record"
      ],
      "execution_count": 76,
      "outputs": []
    },
    {
      "cell_type": "markdown",
      "metadata": {
        "id": "0hSd4Bn3O2PL"
      },
      "source": [
        "## **Validation**"
      ]
    },
    {
      "cell_type": "code",
      "metadata": {
        "id": "yrxrD3YsN3U2"
      },
      "source": [
        "def dev(dv_set, model, device):\n",
        "    model.eval()                                # set model to evalutation mode\n",
        "    total_loss = 0\n",
        "    for x, y in dv_set:                         # iterate through the dataloader\n",
        "        x, y = x.to(device), y.to(device)       # move data to device (cpu/cuda)\n",
        "        with torch.no_grad():                   # disable gradient calculation\n",
        "            pred = model(x)                     # forward pass (compute output)\n",
        "            mse_loss = model.cal_loss(pred, y)  # compute loss\n",
        "        total_loss += mse_loss.detach().cpu().item() * len(x)  # accumulate loss\n",
        "    total_loss = total_loss / len(dv_set.dataset)              # compute averaged loss\n",
        "\n",
        "    return total_loss"
      ],
      "execution_count": 77,
      "outputs": []
    },
    {
      "cell_type": "markdown",
      "metadata": {
        "id": "g0pdrhQAO41L"
      },
      "source": [
        "## **Testing**"
      ]
    },
    {
      "cell_type": "code",
      "metadata": {
        "id": "aSBMRFlYN5tB"
      },
      "source": [
        "def test(tt_set, model, device):\n",
        "    model.eval()                                # set model to evalutation mode\n",
        "    preds = []\n",
        "    for x in tt_set:                            # iterate through the dataloader\n",
        "        x = x.to(device)                        # move data to device (cpu/cuda)\n",
        "        with torch.no_grad():                   # disable gradient calculation\n",
        "            pred = model(x)                     # forward pass (compute output)\n",
        "            preds.append(pred.detach().cpu())   # collect prediction\n",
        "    preds = torch.cat(preds, dim=0).numpy()     # concatenate all predictions and convert to a numpy array\n",
        "    return preds"
      ],
      "execution_count": 78,
      "outputs": []
    },
    {
      "cell_type": "markdown",
      "metadata": {
        "id": "SvckkF5dvf0j"
      },
      "source": [
        "# **Setup Hyper-parameters**\n",
        "\n",
        "`config` contains hyper-parameters for training and the path to save your model."
      ]
    },
    {
      "cell_type": "code",
      "metadata": {
        "id": "NPXpdumwPjE7"
      },
      "source": [
        "device = get_device()                 # get the current available device ('cpu' or 'cuda')\n",
        "os.makedirs('models', exist_ok=True)  # The trained model will be saved to ./models/\n",
        "target_only = True                   # TODO: Using 40 states & 2 tested_positive features\n",
        "\n",
        "# TODO: How to tune these hyper-parameters to improve your model's performance?\n",
        "config = {\n",
        "    'n_epochs': 3200,                # maximum number of epochs\n",
        "    'batch_size': 270,               # mini-batch size for dataloader\n",
        "    'optimizer': 'Adam',              # optimization algorithm (optimizer in torch.optim)\n",
        "    'optim_hparas': {                # hyper-parameters for the optimizer (depends on which optimizer you are using)\n",
        "        'lr': 0.001,                 # learning rate of SGD\n",
        "        'betas': (0.9, 0.999),\n",
        "        'eps': 1e-8\n",
        "    },\n",
        "    'early_stop': 250,               # early stopping epochs (the number epochs since your model's last improvement)\n",
        "    'save_path': 'models/model.pth'  # your model will be saved here\n",
        "}"
      ],
      "execution_count": 79,
      "outputs": []
    },
    {
      "cell_type": "markdown",
      "metadata": {
        "id": "6j1eOV3TOH-j"
      },
      "source": [
        "# **Load data and model**"
      ]
    },
    {
      "cell_type": "code",
      "metadata": {
        "colab": {
          "base_uri": "https://localhost:8080/"
        },
        "id": "eNrYBMmePLKm",
        "outputId": "0494a566-0169-47b9-a727-bb3d462f35a4"
      },
      "source": [
        "tr_set = prep_dataloader(tr_path, 'train', config['batch_size'], target_only=target_only)\n",
        "dv_set = prep_dataloader(tr_path, 'dev', config['batch_size'], target_only=target_only)\n",
        "tt_set = prep_dataloader(tt_path, 'test', config['batch_size'], target_only=target_only)"
      ],
      "execution_count": 80,
      "outputs": [
        {
          "output_type": "stream",
          "name": "stdout",
          "text": [
            "Finished reading the train set of COVID19 Dataset (2430 samples found, each dim = 57)\n",
            "Finished reading the dev set of COVID19 Dataset (270 samples found, each dim = 57)\n",
            "Finished reading the test set of COVID19 Dataset (893 samples found, each dim = 57)\n"
          ]
        }
      ]
    },
    {
      "cell_type": "code",
      "metadata": {
        "id": "FHylSirLP9oh"
      },
      "source": [
        "model = NeuralNet(tr_set.dataset.dim).to(device)  # Construct model and move to device"
      ],
      "execution_count": 81,
      "outputs": []
    },
    {
      "cell_type": "markdown",
      "metadata": {
        "id": "sX2B_zgSOPTJ"
      },
      "source": [
        "# **Start Training!**"
      ]
    },
    {
      "cell_type": "code",
      "metadata": {
        "colab": {
          "base_uri": "https://localhost:8080/"
        },
        "id": "GrEbUxazQAAZ",
        "outputId": "709bdbc2-59a8-4d77-936f-7fbf69569281",
        "collapsed": true
      },
      "source": [
        "model_loss, model_loss_record = train(tr_set, dv_set, model, config, device)"
      ],
      "execution_count": 82,
      "outputs": [
        {
          "output_type": "stream",
          "name": "stdout",
          "text": [
            "Saving model (epoch =    1, loss = 318.6113)\n",
            "Saving model (epoch =    2, loss = 312.0092)\n",
            "Saving model (epoch =    3, loss = 302.3708)\n",
            "Saving model (epoch =    4, loss = 288.1830)\n",
            "Saving model (epoch =    5, loss = 267.6695)\n",
            "Saving model (epoch =    6, loss = 239.6062)\n",
            "Saving model (epoch =    7, loss = 203.9847)\n",
            "Saving model (epoch =    8, loss = 163.4815)\n",
            "Saving model (epoch =    9, loss = 124.3349)\n",
            "Saving model (epoch =   10, loss = 95.4634)\n",
            "Saving model (epoch =   11, loss = 82.5135)\n",
            "Saving model (epoch =   12, loss = 79.3236)\n",
            "Saving model (epoch =   13, loss = 76.2524)\n",
            "Saving model (epoch =   14, loss = 72.2552)\n",
            "Saving model (epoch =   15, loss = 68.4281)\n",
            "Saving model (epoch =   16, loss = 64.6540)\n",
            "Saving model (epoch =   17, loss = 60.6265)\n",
            "Saving model (epoch =   18, loss = 56.2813)\n",
            "Saving model (epoch =   19, loss = 51.5540)\n",
            "Saving model (epoch =   20, loss = 46.6233)\n",
            "Saving model (epoch =   21, loss = 41.5162)\n",
            "Saving model (epoch =   22, loss = 36.3139)\n",
            "Saving model (epoch =   23, loss = 31.1383)\n",
            "Saving model (epoch =   24, loss = 26.1717)\n",
            "Saving model (epoch =   25, loss = 21.6539)\n",
            "Saving model (epoch =   26, loss = 17.6933)\n",
            "Saving model (epoch =   27, loss = 14.4493)\n",
            "Saving model (epoch =   28, loss = 11.8328)\n",
            "Saving model (epoch =   29, loss = 9.8461)\n",
            "Saving model (epoch =   30, loss = 8.3528)\n",
            "Saving model (epoch =   31, loss = 7.3079)\n",
            "Saving model (epoch =   32, loss = 6.5354)\n",
            "Saving model (epoch =   33, loss = 5.9105)\n",
            "Saving model (epoch =   34, loss = 5.4575)\n",
            "Saving model (epoch =   35, loss = 5.1025)\n",
            "Saving model (epoch =   36, loss = 4.8067)\n",
            "Saving model (epoch =   37, loss = 4.5478)\n",
            "Saving model (epoch =   38, loss = 4.3724)\n",
            "Saving model (epoch =   39, loss = 4.1809)\n",
            "Saving model (epoch =   40, loss = 4.0361)\n",
            "Saving model (epoch =   41, loss = 3.9275)\n",
            "Saving model (epoch =   42, loss = 3.8000)\n",
            "Saving model (epoch =   43, loss = 3.7292)\n",
            "Saving model (epoch =   44, loss = 3.6259)\n",
            "Saving model (epoch =   45, loss = 3.5556)\n",
            "Saving model (epoch =   46, loss = 3.4774)\n",
            "Saving model (epoch =   47, loss = 3.4281)\n",
            "Saving model (epoch =   48, loss = 3.3664)\n",
            "Saving model (epoch =   49, loss = 3.3113)\n",
            "Saving model (epoch =   50, loss = 3.2395)\n",
            "Saving model (epoch =   51, loss = 3.2094)\n",
            "Saving model (epoch =   52, loss = 3.1701)\n",
            "Saving model (epoch =   53, loss = 3.1128)\n",
            "Saving model (epoch =   54, loss = 3.0747)\n",
            "Saving model (epoch =   55, loss = 3.0368)\n",
            "Saving model (epoch =   56, loss = 2.9954)\n",
            "Saving model (epoch =   57, loss = 2.9608)\n",
            "Saving model (epoch =   58, loss = 2.9447)\n",
            "Saving model (epoch =   59, loss = 2.8946)\n",
            "Saving model (epoch =   60, loss = 2.8860)\n",
            "Saving model (epoch =   61, loss = 2.8319)\n",
            "Saving model (epoch =   62, loss = 2.8180)\n",
            "Saving model (epoch =   63, loss = 2.7835)\n",
            "Saving model (epoch =   64, loss = 2.7593)\n",
            "Saving model (epoch =   65, loss = 2.7374)\n",
            "Saving model (epoch =   66, loss = 2.7169)\n",
            "Saving model (epoch =   67, loss = 2.6845)\n",
            "Saving model (epoch =   68, loss = 2.6804)\n",
            "Saving model (epoch =   69, loss = 2.6519)\n",
            "Saving model (epoch =   70, loss = 2.6168)\n",
            "Saving model (epoch =   72, loss = 2.5883)\n",
            "Saving model (epoch =   74, loss = 2.5539)\n",
            "Saving model (epoch =   75, loss = 2.5528)\n",
            "Saving model (epoch =   76, loss = 2.5221)\n",
            "Saving model (epoch =   77, loss = 2.5191)\n",
            "Saving model (epoch =   78, loss = 2.5154)\n",
            "Saving model (epoch =   79, loss = 2.4835)\n",
            "Saving model (epoch =   81, loss = 2.4751)\n",
            "Saving model (epoch =   82, loss = 2.4475)\n",
            "Saving model (epoch =   83, loss = 2.4395)\n",
            "Saving model (epoch =   84, loss = 2.4278)\n",
            "Saving model (epoch =   86, loss = 2.3998)\n",
            "Saving model (epoch =   88, loss = 2.3925)\n",
            "Saving model (epoch =   89, loss = 2.3777)\n",
            "Saving model (epoch =   91, loss = 2.3556)\n",
            "Saving model (epoch =   92, loss = 2.3511)\n",
            "Saving model (epoch =   93, loss = 2.3342)\n",
            "Saving model (epoch =   94, loss = 2.3252)\n",
            "Saving model (epoch =   96, loss = 2.2917)\n",
            "Saving model (epoch =   98, loss = 2.2875)\n",
            "Saving model (epoch =   99, loss = 2.2736)\n",
            "Saving model (epoch =  100, loss = 2.2615)\n",
            "Saving model (epoch =  102, loss = 2.2358)\n",
            "Saving model (epoch =  105, loss = 2.2132)\n",
            "Saving model (epoch =  106, loss = 2.2057)\n",
            "Saving model (epoch =  107, loss = 2.2051)\n",
            "Saving model (epoch =  108, loss = 2.1927)\n",
            "Saving model (epoch =  109, loss = 2.1762)\n",
            "Saving model (epoch =  111, loss = 2.1671)\n",
            "Saving model (epoch =  112, loss = 2.1500)\n",
            "Saving model (epoch =  114, loss = 2.1358)\n",
            "Saving model (epoch =  116, loss = 2.1286)\n",
            "Saving model (epoch =  117, loss = 2.1162)\n",
            "Saving model (epoch =  119, loss = 2.1035)\n",
            "Saving model (epoch =  120, loss = 2.0965)\n",
            "Saving model (epoch =  121, loss = 2.0950)\n",
            "Saving model (epoch =  122, loss = 2.0921)\n",
            "Saving model (epoch =  123, loss = 2.0705)\n",
            "Saving model (epoch =  125, loss = 2.0680)\n",
            "Saving model (epoch =  126, loss = 2.0521)\n",
            "Saving model (epoch =  127, loss = 2.0428)\n",
            "Saving model (epoch =  129, loss = 2.0354)\n",
            "Saving model (epoch =  130, loss = 2.0328)\n",
            "Saving model (epoch =  132, loss = 2.0103)\n",
            "Saving model (epoch =  134, loss = 2.0094)\n",
            "Saving model (epoch =  135, loss = 1.9965)\n",
            "Saving model (epoch =  137, loss = 1.9831)\n",
            "Saving model (epoch =  138, loss = 1.9827)\n",
            "Saving model (epoch =  139, loss = 1.9740)\n",
            "Saving model (epoch =  140, loss = 1.9709)\n",
            "Saving model (epoch =  142, loss = 1.9604)\n",
            "Saving model (epoch =  143, loss = 1.9519)\n",
            "Saving model (epoch =  145, loss = 1.9436)\n",
            "Saving model (epoch =  146, loss = 1.9386)\n",
            "Saving model (epoch =  148, loss = 1.9371)\n",
            "Saving model (epoch =  149, loss = 1.9192)\n",
            "Saving model (epoch =  152, loss = 1.8988)\n",
            "Saving model (epoch =  153, loss = 1.8971)\n",
            "Saving model (epoch =  155, loss = 1.8823)\n",
            "Saving model (epoch =  156, loss = 1.8710)\n",
            "Saving model (epoch =  158, loss = 1.8640)\n",
            "Saving model (epoch =  160, loss = 1.8481)\n",
            "Saving model (epoch =  163, loss = 1.8333)\n",
            "Saving model (epoch =  165, loss = 1.8300)\n",
            "Saving model (epoch =  168, loss = 1.8216)\n",
            "Saving model (epoch =  169, loss = 1.8038)\n",
            "Saving model (epoch =  170, loss = 1.8027)\n",
            "Saving model (epoch =  171, loss = 1.7968)\n",
            "Saving model (epoch =  174, loss = 1.7865)\n",
            "Saving model (epoch =  175, loss = 1.7846)\n",
            "Saving model (epoch =  177, loss = 1.7825)\n",
            "Saving model (epoch =  178, loss = 1.7657)\n",
            "Saving model (epoch =  180, loss = 1.7561)\n",
            "Saving model (epoch =  184, loss = 1.7444)\n",
            "Saving model (epoch =  185, loss = 1.7343)\n",
            "Saving model (epoch =  188, loss = 1.7222)\n",
            "Saving model (epoch =  191, loss = 1.7177)\n",
            "Saving model (epoch =  193, loss = 1.7032)\n",
            "Saving model (epoch =  194, loss = 1.7002)\n",
            "Saving model (epoch =  195, loss = 1.6917)\n",
            "Saving model (epoch =  198, loss = 1.6848)\n",
            "Saving model (epoch =  199, loss = 1.6809)\n",
            "Saving model (epoch =  200, loss = 1.6782)\n",
            "Saving model (epoch =  201, loss = 1.6711)\n",
            "Saving model (epoch =  202, loss = 1.6679)\n",
            "Saving model (epoch =  203, loss = 1.6588)\n",
            "Saving model (epoch =  206, loss = 1.6548)\n",
            "Saving model (epoch =  208, loss = 1.6457)\n",
            "Saving model (epoch =  209, loss = 1.6421)\n",
            "Saving model (epoch =  213, loss = 1.6340)\n",
            "Saving model (epoch =  215, loss = 1.6241)\n",
            "Saving model (epoch =  217, loss = 1.6164)\n",
            "Saving model (epoch =  219, loss = 1.6114)\n",
            "Saving model (epoch =  220, loss = 1.6035)\n",
            "Saving model (epoch =  225, loss = 1.5921)\n",
            "Saving model (epoch =  227, loss = 1.5856)\n",
            "Saving model (epoch =  228, loss = 1.5843)\n",
            "Saving model (epoch =  230, loss = 1.5806)\n",
            "Saving model (epoch =  231, loss = 1.5749)\n",
            "Saving model (epoch =  233, loss = 1.5655)\n",
            "Saving model (epoch =  235, loss = 1.5631)\n",
            "Saving model (epoch =  237, loss = 1.5512)\n",
            "Saving model (epoch =  241, loss = 1.5457)\n",
            "Saving model (epoch =  244, loss = 1.5447)\n",
            "Saving model (epoch =  245, loss = 1.5330)\n",
            "Saving model (epoch =  251, loss = 1.5193)\n",
            "Saving model (epoch =  252, loss = 1.5188)\n",
            "Saving model (epoch =  253, loss = 1.5131)\n",
            "Saving model (epoch =  254, loss = 1.5124)\n",
            "Saving model (epoch =  256, loss = 1.5122)\n",
            "Saving model (epoch =  260, loss = 1.4973)\n",
            "Saving model (epoch =  264, loss = 1.4865)\n",
            "Saving model (epoch =  266, loss = 1.4837)\n",
            "Saving model (epoch =  272, loss = 1.4724)\n",
            "Saving model (epoch =  274, loss = 1.4704)\n",
            "Saving model (epoch =  276, loss = 1.4567)\n",
            "Saving model (epoch =  281, loss = 1.4536)\n",
            "Saving model (epoch =  282, loss = 1.4534)\n",
            "Saving model (epoch =  285, loss = 1.4504)\n",
            "Saving model (epoch =  286, loss = 1.4415)\n",
            "Saving model (epoch =  290, loss = 1.4344)\n",
            "Saving model (epoch =  298, loss = 1.4191)\n",
            "Saving model (epoch =  304, loss = 1.4144)\n",
            "Saving model (epoch =  305, loss = 1.4104)\n",
            "Saving model (epoch =  310, loss = 1.4093)\n",
            "Saving model (epoch =  311, loss = 1.3992)\n",
            "Saving model (epoch =  313, loss = 1.3973)\n",
            "Saving model (epoch =  318, loss = 1.3936)\n",
            "Saving model (epoch =  321, loss = 1.3909)\n",
            "Saving model (epoch =  322, loss = 1.3855)\n",
            "Saving model (epoch =  323, loss = 1.3850)\n",
            "Saving model (epoch =  325, loss = 1.3734)\n",
            "Saving model (epoch =  328, loss = 1.3719)\n",
            "Saving model (epoch =  333, loss = 1.3706)\n",
            "Saving model (epoch =  334, loss = 1.3682)\n",
            "Saving model (epoch =  335, loss = 1.3658)\n",
            "Saving model (epoch =  340, loss = 1.3640)\n",
            "Saving model (epoch =  341, loss = 1.3604)\n",
            "Saving model (epoch =  347, loss = 1.3520)\n",
            "Saving model (epoch =  349, loss = 1.3464)\n",
            "Saving model (epoch =  350, loss = 1.3460)\n",
            "Saving model (epoch =  351, loss = 1.3421)\n",
            "Saving model (epoch =  358, loss = 1.3410)\n",
            "Saving model (epoch =  363, loss = 1.3310)\n",
            "Saving model (epoch =  370, loss = 1.3233)\n",
            "Saving model (epoch =  375, loss = 1.3095)\n",
            "Saving model (epoch =  388, loss = 1.3057)\n",
            "Saving model (epoch =  396, loss = 1.3020)\n",
            "Saving model (epoch =  398, loss = 1.2967)\n",
            "Saving model (epoch =  411, loss = 1.2952)\n",
            "Saving model (epoch =  412, loss = 1.2934)\n",
            "Saving model (epoch =  413, loss = 1.2856)\n",
            "Saving model (epoch =  420, loss = 1.2836)\n",
            "Saving model (epoch =  422, loss = 1.2735)\n",
            "Saving model (epoch =  431, loss = 1.2714)\n",
            "Saving model (epoch =  442, loss = 1.2674)\n",
            "Saving model (epoch =  444, loss = 1.2623)\n",
            "Saving model (epoch =  454, loss = 1.2612)\n",
            "Saving model (epoch =  459, loss = 1.2552)\n",
            "Saving model (epoch =  465, loss = 1.2527)\n",
            "Saving model (epoch =  466, loss = 1.2500)\n",
            "Saving model (epoch =  471, loss = 1.2491)\n",
            "Saving model (epoch =  479, loss = 1.2400)\n",
            "Saving model (epoch =  491, loss = 1.2396)\n",
            "Saving model (epoch =  493, loss = 1.2379)\n",
            "Saving model (epoch =  504, loss = 1.2347)\n",
            "Saving model (epoch =  508, loss = 1.2317)\n",
            "Saving model (epoch =  510, loss = 1.2249)\n",
            "Saving model (epoch =  512, loss = 1.2229)\n",
            "Saving model (epoch =  523, loss = 1.2184)\n",
            "Saving model (epoch =  526, loss = 1.2149)\n",
            "Saving model (epoch =  532, loss = 1.2130)\n",
            "Saving model (epoch =  548, loss = 1.2118)\n",
            "Saving model (epoch =  552, loss = 1.2116)\n",
            "Saving model (epoch =  553, loss = 1.2091)\n",
            "Saving model (epoch =  554, loss = 1.2075)\n",
            "Saving model (epoch =  566, loss = 1.2012)\n",
            "Saving model (epoch =  573, loss = 1.1995)\n",
            "Saving model (epoch =  583, loss = 1.1964)\n",
            "Saving model (epoch =  588, loss = 1.1950)\n",
            "Saving model (epoch =  590, loss = 1.1936)\n",
            "Saving model (epoch =  603, loss = 1.1833)\n",
            "Saving model (epoch =  619, loss = 1.1825)\n",
            "Saving model (epoch =  621, loss = 1.1817)\n",
            "Saving model (epoch =  630, loss = 1.1758)\n",
            "Saving model (epoch =  634, loss = 1.1739)\n",
            "Saving model (epoch =  642, loss = 1.1689)\n",
            "Saving model (epoch =  670, loss = 1.1618)\n",
            "Saving model (epoch =  685, loss = 1.1603)\n",
            "Saving model (epoch =  690, loss = 1.1593)\n",
            "Saving model (epoch =  702, loss = 1.1565)\n",
            "Saving model (epoch =  706, loss = 1.1554)\n",
            "Saving model (epoch =  708, loss = 1.1523)\n",
            "Saving model (epoch =  720, loss = 1.1512)\n",
            "Saving model (epoch =  737, loss = 1.1506)\n",
            "Saving model (epoch =  739, loss = 1.1447)\n",
            "Saving model (epoch =  769, loss = 1.1432)\n",
            "Saving model (epoch =  771, loss = 1.1394)\n",
            "Saving model (epoch =  774, loss = 1.1375)\n",
            "Saving model (epoch =  815, loss = 1.1362)\n",
            "Saving model (epoch =  817, loss = 1.1331)\n",
            "Saving model (epoch =  830, loss = 1.1288)\n",
            "Saving model (epoch =  865, loss = 1.1253)\n",
            "Saving model (epoch =  868, loss = 1.1202)\n",
            "Saving model (epoch =  896, loss = 1.1135)\n",
            "Saving model (epoch =  926, loss = 1.1132)\n",
            "Saving model (epoch =  929, loss = 1.1079)\n",
            "Saving model (epoch =  956, loss = 1.1044)\n",
            "Saving model (epoch =  986, loss = 1.1017)\n",
            "Saving model (epoch = 1009, loss = 1.0973)\n",
            "Saving model (epoch = 1024, loss = 1.0953)\n",
            "Saving model (epoch = 1119, loss = 1.0937)\n",
            "Saving model (epoch = 1167, loss = 1.0880)\n",
            "Saving model (epoch = 1169, loss = 1.0860)\n",
            "Saving model (epoch = 1237, loss = 1.0845)\n",
            "Saving model (epoch = 1249, loss = 1.0830)\n",
            "Saving model (epoch = 1302, loss = 1.0795)\n",
            "Saving model (epoch = 1358, loss = 1.0791)\n",
            "Saving model (epoch = 1383, loss = 1.0773)\n",
            "Saving model (epoch = 1403, loss = 1.0772)\n",
            "Saving model (epoch = 1535, loss = 1.0760)\n",
            "Saving model (epoch = 1610, loss = 1.0756)\n",
            "Saving model (epoch = 1679, loss = 1.0755)\n",
            "Saving model (epoch = 1836, loss = 1.0743)\n",
            "Finished training after 2087 epochs\n"
          ]
        }
      ]
    },
    {
      "cell_type": "code",
      "metadata": {
        "colab": {
          "base_uri": "https://localhost:8080/",
          "height": 410
        },
        "id": "hsNO9nnXQBvP",
        "outputId": "bcea8bae-b3c1-4b5a-b1cb-9449373ffd09"
      },
      "source": [
        "plot_learning_curve(model_loss_record, title='deep model')"
      ],
      "execution_count": 83,
      "outputs": [
        {
          "output_type": "display_data",
          "data": {
            "text/plain": [
              "<Figure size 600x400 with 1 Axes>"
            ],
            "image/png": "[encoded data removed]"
          },
          "metadata": {}
        }
      ]
    },
    {
      "cell_type": "code",
      "metadata": {
        "colab": {
          "base_uri": "https://localhost:8080/",
          "height": 487
        },
        "id": "3iZTVn5WQFpX",
        "outputId": "cfff61e0-fcab-49c9-b90c-6a78457e80c9"
      },
      "source": [
        "del model\n",
        "model = NeuralNet(tr_set.dataset.dim).to(device)\n",
        "ckpt = torch.load(config['save_path'], map_location='cpu')  # Load your best model\n",
        "model.load_state_dict(ckpt)\n",
        "plot_pred(dv_set, model, device)  # Show prediction on the validation set"
      ],
      "execution_count": 84,
      "outputs": [
        {
          "output_type": "display_data",
          "data": {
            "text/plain": [
              "<Figure size 500x500 with 1 Axes>"
            ],
            "image/png": "[encoded data removed]"
          },
          "metadata": {}
        }
      ]
    },
    {
      "cell_type": "markdown",
      "metadata": {
        "id": "aQikz3IPiyPf"
      },
      "source": [
        "# **Testing**\n",
        "The predictions of your model on testing set will be stored at `pred.csv`."
      ]
    },
    {
      "cell_type": "code",
      "metadata": {
        "colab": {
          "base_uri": "https://localhost:8080/"
        },
        "id": "O8cTuQjQQOon",
        "outputId": "20f9443d-c2bd-4449-8ae8-02bfbd3f876e"
      },
      "source": [
        "def save_pred(preds, file):\n",
        "    ''' Save predictions to specified file '''\n",
        "    print('Saving results to {}'.format(file))\n",
        "    with open(file, 'w') as fp:\n",
        "        writer = csv.writer(fp)\n",
        "        writer.writerow(['id', 'tested_positive'])\n",
        "        for i, p in enumerate(preds):\n",
        "            writer.writerow([i, p])\n",
        "\n",
        "preds = test(tt_set, model, device)  # predict COVID-19 cases with your model\n",
        "save_pred(preds, 'pred.csv')         # save prediction file to pred.csv"
      ],
      "execution_count": 85,
      "outputs": [
        {
          "output_type": "stream",
          "name": "stdout",
          "text": [
            "Saving results to pred.csv\n"
          ]
        }
      ]
    },
    {
      "cell_type": "markdown",
      "metadata": {
        "id": "nfrVxqJanGpE"
      },
      "source": [
        "# **Hints**\n",
        "\n",
        "## **Simple Baseline**\n",
        "* Run sample code\n",
        "\n",
        "## **Medium Baseline**\n",
        "* Feature selection: 40 states + 2 `tested_positive` (`TODO` in dataset)\n",
        "\n",
        "## **Strong Baseline**\n",
        "* Feature selection (what other features are useful?)\n",
        "* DNN architecture (layers? dimension? activation function?)\n",
        "* Training (mini-batch? optimizer? learning rate?)\n",
        "* L2 regularization\n",
        "* There are some mistakes in the sample code, can you find them?"
      ]
    },
    {
      "cell_type": "markdown",
      "metadata": {
        "id": "9tmCwXgpot3t"
      },
      "source": [
        "# **Reference**\n",
        "This code is completely written by Heng-Jui Chang @ NTUEE.  \n",
        "Copying or reusing this code is required to specify the original author.\n",
        "\n",
        "E.g.  \n",
        "Source: Heng-Jui Chang @ NTUEE (https://github.com/ga642381/ML2021-Spring/blob/main/HW01/HW01.ipynb)\n"
      ]
    }
  ]
}